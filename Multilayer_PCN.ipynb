{
 "cells": [
  {
   "cell_type": "code",
   "execution_count": 3,
   "id": "a0aa34ff",
   "metadata": {},
   "outputs": [],
   "source": [
    "import os\n",
    "import argparse\n",
    "import json\n",
    "import time\n",
    "import torch\n",
    "import torch.nn as nn\n",
    "import pandas as pd\n",
    "import numpy as np\n",
    "import torch.nn.functional as F\n",
    "import matplotlib.pyplot as plt\n",
    "plt.style.use('ggplot')\n",
    "from src.models import TemporalPC, MultilayertPC\n",
    "from src.utils import *\n",
    "from src.get_data import *\n",
    "import matplotlib as mpl"
   ]
  },
  {
   "cell_type": "code",
   "execution_count": null,
   "id": "bd904adc",
   "metadata": {},
   "outputs": [],
   "source": [
    "def train_PC(model, optimizer, seq, learn_iters, inf_iters, inf_lr, device, batchsize = 1):\n",
    "    seq_len = seq.shape[0]\n",
    "    losses = []\n",
    "    start_time = time.time()\n",
    "    for learn_iter in range(learn_iters):\n",
    "        epoch_loss = 0\n",
    "        prev_z = model.init_hidden(batchsize).to(device)\n",
    "        for k in range(seq_len):\n",
    "            x = seq[k].clone().detach()\n",
    "            optimizer.zero_grad()\n",
    "            model.inference(inf_iters, inf_lr, x, prev_z)\n",
    "            energy = model.update_grads(x, prev_z)\n",
    "            energy.backward()\n",
    "            optimizer.step()\n",
    "            prev_z = model.z.clone().detach()\n",
    "\n",
    "            # add up the loss value at each time step\n",
    "            epoch_loss += energy.item() / seq_len\n",
    "\n",
    "        losses.append(epoch_loss)\n",
    "        if (learn_iter + 1) % 10 == 0:\n",
    "            print(f'Epoch {learn_iter+1}, loss {epoch_loss}')\n",
    "        \n",
    "    print(f'training PC complete, time: {time.time() - start_time}')\n",
    "    return losses\n",
    "\n",
    "def _recall(model, seq, inf_iters, inf_lr, query, device):\n",
    "    seq_len, N = seq.shape\n",
    "    recall = torch.zeros((seq_len, N)).to(device)\n",
    "    recall[0] = seq[0].clone().detach()\n",
    "    prev_z = model.init_hidden(1).to(device)\n",
    "    loss = 0\n",
    "    \n",
    "    if query == 'online':\n",
    "        # infer the latent state at each time step, given correct previous input\n",
    "        for k in range(seq_len-1):\n",
    "            x = seq[k].clone().detach()\n",
    "            model.inference(inf_iters, inf_lr, x, prev_z)\n",
    "            prev_z = model.z.clone().detach()\n",
    "            _, pred_x = model(prev_z)\n",
    "            recall[k+1] = pred_x\n",
    "            energy = model.update_grads(x, prev_z)\n",
    "            loss += energy.item() / seq_len\n",
    "\n",
    "    elif query == 'offline':\n",
    "        # only infer the latent of the cue, then forward pass\n",
    "        x = seq[0].clone().detach()\n",
    "        model.inference(inf_iters, inf_lr, x, prev_z)\n",
    "        prev_z = model.z.clone().detach()\n",
    "\n",
    "        # fast forward pass\n",
    "        for k in range(1, seq_len):\n",
    "            x = seq[k].clone().detach()\n",
    "            prev_z, pred_x = model(prev_z)\n",
    "            recall[k] = pred_x\n",
    "            energy = model.update_grads(x, prev_z)\n",
    "            loss += energy.item() / seq_len\n",
    "\n",
    "    return recall, loss"
   ]
  },
  {
   "cell_type": "code",
   "execution_count": 5,
   "id": "6aa4b9f2",
   "metadata": {},
   "outputs": [],
   "source": [
    "def seq2onehot(seq, num_classes, num_reps = 6):\n",
    "    L = len(seq)\n",
    "    t = torch.empty(L, num_reps*num_classes)\n",
    "    for i,s in enumerate(seq):\n",
    "        t[i,:] = nn.functional.one_hot(torch.tensor([s]), num_classes= num_classes).repeat(1,6).flatten()\n",
    "    return t\n",
    "        \n",
    "def recall2class(onehot, num_classes, num_reps = 6):\n",
    "    recall = []\n",
    "    for s in onehot:\n",
    "        r = torch.argmax(s[:num_classes]).detach().item()\n",
    "        recall.append(r)\n",
    "    return recall"
   ]
  },
  {
   "cell_type": "code",
   "execution_count": 52,
   "id": "bec29f6c",
   "metadata": {},
   "outputs": [],
   "source": [
    "# sequences\n",
    "num_classes = 8\n",
    "num_reps = 6\n",
    "\n",
    "seq = [1,2,7,4,5,7]\n",
    "seq1 = seq2onehot(seq, num_classes)\n",
    "\n",
    "seq = [7,2,3,7,5,6]\n",
    "seq2 = seq2onehot(seq, num_classes)\n",
    "\n",
    "\n",
    "# seq = [1,2,0,4,5,0]\n",
    "# seqt1 = seq2onehot(seq, num_classes)\n",
    "# seq = [2,3,0,5,6,0]\n",
    "# seqt2 = seq2onehot(seq, num_classes)\n",
    "seq = [1,2,3]\n",
    "seqt1 = seq2onehot(seq, num_classes)\n",
    "seq = [4,5,6]\n",
    "seqt2 = seq2onehot(seq, num_classes)\n"
   ]
  },
  {
   "cell_type": "code",
   "execution_count": 74,
   "id": "1b8044b4",
   "metadata": {},
   "outputs": [
    {
     "data": {
      "text/plain": [
       "torch.Size([2, 6, 48])"
      ]
     },
     "execution_count": 74,
     "metadata": {},
     "output_type": "execute_result"
    }
   ],
   "source": [
    "seq1.size()\n",
    "\n",
    "tt = torch.stack([seq1,seq2])\n",
    "tt.size()"
   ]
  },
  {
   "cell_type": "code",
   "execution_count": 65,
   "id": "c810ae15",
   "metadata": {},
   "outputs": [
    {
     "name": "stdout",
     "output_type": "stream",
     "text": [
      "cpu\n"
     ]
    },
    {
     "data": {
      "text/plain": [
       "<torch._C.Generator at 0x7ff2c0791bb0>"
      ]
     },
     "execution_count": 65,
     "metadata": {},
     "output_type": "execute_result"
    }
   ],
   "source": [
    "device = \"cuda\" if torch.cuda.is_available() else \"cpu\"\n",
    "print(device)\n",
    "\n",
    "batchsize = 2\n",
    "num_cues = seq1[0].size()[0]\n",
    "seq_len = seq1.size()[0]\n",
    "inf_iters = 5 # for this experiment inf iters too large is harmful\n",
    "inf_lr = 0.01\n",
    "learn_iters = 200\n",
    "learn_lr = 0.01\n",
    "latent_size = 8\n",
    "input_size = num_cues\n",
    "control_size = num_cues\n",
    "sparse_penal = 0\n",
    "n_cued = 1 # number of cued images\n",
    "assert(n_cued < seq_len)\n",
    "\n",
    "torch.manual_seed(1)"
   ]
  },
  {
   "cell_type": "code",
   "execution_count": 66,
   "id": "0242b76d",
   "metadata": {},
   "outputs": [
    {
     "ename": "RuntimeError",
     "evalue": "The size of tensor a (6) must match the size of tensor b (2) at non-singleton dimension 0",
     "output_type": "error",
     "traceback": [
      "\u001b[0;31m---------------------------------------------------------------------------\u001b[0m",
      "\u001b[0;31mRuntimeError\u001b[0m                              Traceback (most recent call last)",
      "Cell \u001b[0;32mIn[66], line 5\u001b[0m\n\u001b[1;32m      2\u001b[0m optimizer \u001b[38;5;241m=\u001b[39m torch\u001b[38;5;241m.\u001b[39moptim\u001b[38;5;241m.\u001b[39mAdam(model\u001b[38;5;241m.\u001b[39mparameters(), lr\u001b[38;5;241m=\u001b[39mlearn_lr)\n\u001b[1;32m      4\u001b[0m \u001b[38;5;66;03m# PC_losses1 = train_PC(model, optimizer, seq1, 100, inf_iters, inf_lr, device)\u001b[39;00m\n\u001b[0;32m----> 5\u001b[0m PC_losses1 \u001b[38;5;241m=\u001b[39m \u001b[43mtrain_PC\u001b[49m\u001b[43m(\u001b[49m\u001b[43mmodel\u001b[49m\u001b[43m,\u001b[49m\u001b[43m \u001b[49m\u001b[43moptimizer\u001b[49m\u001b[43m,\u001b[49m\u001b[43m \u001b[49m\u001b[43mtt\u001b[49m\u001b[43m,\u001b[49m\u001b[43m \u001b[49m\u001b[38;5;241;43m100\u001b[39;49m\u001b[43m,\u001b[49m\u001b[43m \u001b[49m\u001b[43minf_iters\u001b[49m\u001b[43m,\u001b[49m\u001b[43m \u001b[49m\u001b[43minf_lr\u001b[49m\u001b[43m,\u001b[49m\u001b[43m \u001b[49m\u001b[43mdevice\u001b[49m\u001b[43m,\u001b[49m\u001b[43m \u001b[49m\u001b[43mbatchsize\u001b[49m\u001b[43m)\u001b[49m\n",
      "Cell \u001b[0;32mIn[3], line 11\u001b[0m, in \u001b[0;36mtrain_PC\u001b[0;34m(model, optimizer, seq, learn_iters, inf_iters, inf_lr, device, batchsize)\u001b[0m\n\u001b[1;32m      9\u001b[0m x \u001b[38;5;241m=\u001b[39m seq[k]\u001b[38;5;241m.\u001b[39mclone()\u001b[38;5;241m.\u001b[39mdetach()\n\u001b[1;32m     10\u001b[0m optimizer\u001b[38;5;241m.\u001b[39mzero_grad()\n\u001b[0;32m---> 11\u001b[0m \u001b[43mmodel\u001b[49m\u001b[38;5;241;43m.\u001b[39;49m\u001b[43minference\u001b[49m\u001b[43m(\u001b[49m\u001b[43minf_iters\u001b[49m\u001b[43m,\u001b[49m\u001b[43m \u001b[49m\u001b[43minf_lr\u001b[49m\u001b[43m,\u001b[49m\u001b[43m \u001b[49m\u001b[43mx\u001b[49m\u001b[43m,\u001b[49m\u001b[43m \u001b[49m\u001b[43mprev_z\u001b[49m\u001b[43m)\u001b[49m\n\u001b[1;32m     12\u001b[0m energy \u001b[38;5;241m=\u001b[39m model\u001b[38;5;241m.\u001b[39mupdate_grads(x, prev_z)\n\u001b[1;32m     13\u001b[0m energy\u001b[38;5;241m.\u001b[39mbackward()\n",
      "File \u001b[0;32m~/Documents/Oxford/Rotation2/HIP_V1_PCN/src/models.py:187\u001b[0m, in \u001b[0;36mMultilayertPC.inference\u001b[0;34m(self, inf_iters, inf_lr, x, prev_z, update_x)\u001b[0m\n\u001b[1;32m    185\u001b[0m \u001b[38;5;66;03m# update the values nodes\u001b[39;00m\n\u001b[1;32m    186\u001b[0m \u001b[38;5;28;01mfor\u001b[39;00m i \u001b[38;5;129;01min\u001b[39;00m \u001b[38;5;28mrange\u001b[39m(inf_iters):\n\u001b[0;32m--> 187\u001b[0m     \u001b[38;5;28;43mself\u001b[39;49m\u001b[38;5;241;43m.\u001b[39;49m\u001b[43mupdate_nodes\u001b[49m\u001b[43m(\u001b[49m\u001b[43mx\u001b[49m\u001b[43m,\u001b[49m\u001b[43m \u001b[49m\u001b[43mprev_z\u001b[49m\u001b[43m,\u001b[49m\u001b[43m \u001b[49m\u001b[43minf_lr\u001b[49m\u001b[43m,\u001b[49m\u001b[43m \u001b[49m\u001b[43mupdate_x\u001b[49m\u001b[43m)\u001b[49m\n",
      "File \u001b[0;32m~/Documents/Oxford/Rotation2/HIP_V1_PCN/src/models.py:166\u001b[0m, in \u001b[0;36mMultilayertPC.update_nodes\u001b[0;34m(self, x, prev_z, inf_lr, update_x)\u001b[0m\n\u001b[1;32m    165\u001b[0m \u001b[38;5;28;01mdef\u001b[39;00m \u001b[38;5;21mupdate_nodes\u001b[39m(\u001b[38;5;28mself\u001b[39m, x, prev_z, inf_lr, update_x\u001b[38;5;241m=\u001b[39m\u001b[38;5;28;01mFalse\u001b[39;00m):\n\u001b[0;32m--> 166\u001b[0m     err_z, err_x \u001b[38;5;241m=\u001b[39m \u001b[38;5;28;43mself\u001b[39;49m\u001b[38;5;241;43m.\u001b[39;49m\u001b[43mupdate_errs\u001b[49m\u001b[43m(\u001b[49m\u001b[43mx\u001b[49m\u001b[43m,\u001b[49m\u001b[43m \u001b[49m\u001b[43mprev_z\u001b[49m\u001b[43m)\u001b[49m\n\u001b[1;32m    167\u001b[0m     delta_z \u001b[38;5;241m=\u001b[39m err_z \u001b[38;5;241m-\u001b[39m \u001b[38;5;28mself\u001b[39m\u001b[38;5;241m.\u001b[39mnonlin\u001b[38;5;241m.\u001b[39mderiv(\u001b[38;5;28mself\u001b[39m\u001b[38;5;241m.\u001b[39mz) \u001b[38;5;241m*\u001b[39m torch\u001b[38;5;241m.\u001b[39mmatmul(err_x, \u001b[38;5;28mself\u001b[39m\u001b[38;5;241m.\u001b[39mWout\u001b[38;5;241m.\u001b[39mweight\u001b[38;5;241m.\u001b[39mdetach()\u001b[38;5;241m.\u001b[39mclone())\n\u001b[1;32m    168\u001b[0m     \u001b[38;5;28mself\u001b[39m\u001b[38;5;241m.\u001b[39mz \u001b[38;5;241m-\u001b[39m\u001b[38;5;241m=\u001b[39m inf_lr \u001b[38;5;241m*\u001b[39m delta_z\n",
      "File \u001b[0;32m~/Documents/Oxford/Rotation2/HIP_V1_PCN/src/models.py:162\u001b[0m, in \u001b[0;36mMultilayertPC.update_errs\u001b[0;34m(self, x, prev_z)\u001b[0m\n\u001b[1;32m    160\u001b[0m pred_x \u001b[38;5;241m=\u001b[39m \u001b[38;5;28mself\u001b[39m\u001b[38;5;241m.\u001b[39mWout(\u001b[38;5;28mself\u001b[39m\u001b[38;5;241m.\u001b[39mnonlin(\u001b[38;5;28mself\u001b[39m\u001b[38;5;241m.\u001b[39mz))\n\u001b[1;32m    161\u001b[0m err_z \u001b[38;5;241m=\u001b[39m \u001b[38;5;28mself\u001b[39m\u001b[38;5;241m.\u001b[39mz \u001b[38;5;241m-\u001b[39m pred_z\n\u001b[0;32m--> 162\u001b[0m err_x \u001b[38;5;241m=\u001b[39m \u001b[43mx\u001b[49m\u001b[43m \u001b[49m\u001b[38;5;241;43m-\u001b[39;49m\u001b[43m \u001b[49m\u001b[43mpred_x\u001b[49m\n\u001b[1;32m    163\u001b[0m \u001b[38;5;28;01mreturn\u001b[39;00m err_z, err_x\n",
      "\u001b[0;31mRuntimeError\u001b[0m: The size of tensor a (6) must match the size of tensor b (2) at non-singleton dimension 0"
     ]
    }
   ],
   "source": [
    "model = MultilayertPC(latent_size, input_size, nonlin='tanh').to(device)\n",
    "optimizer = torch.optim.Adam(model.parameters(), lr=learn_lr)\n",
    "\n",
    "# PC_losses1 = train_PC(model, optimizer, seq1, 100, inf_iters, inf_lr, device)\n",
    "PC_losses1 = train_PC(model, optimizer, tt, 100, inf_iters, inf_lr, device, batchsize)\n",
    "# PC_losses2 = train_PC(model, optimizer, seq2, 40, inf_iters, inf_lr, device)"
   ]
  },
  {
   "cell_type": "code",
   "execution_count": 79,
   "id": "3bdb55de",
   "metadata": {},
   "outputs": [
    {
     "data": {
      "text/plain": [
       "torch.Size([6, 48])"
      ]
     },
     "execution_count": 79,
     "metadata": {},
     "output_type": "execute_result"
    }
   ],
   "source": [
    "x.size()"
   ]
  },
  {
   "cell_type": "code",
   "execution_count": 76,
   "id": "b21d73b6",
   "metadata": {},
   "outputs": [
    {
     "ename": "RuntimeError",
     "evalue": "The size of tensor a (6) must match the size of tensor b (2) at non-singleton dimension 0",
     "output_type": "error",
     "traceback": [
      "\u001b[0;31m---------------------------------------------------------------------------\u001b[0m",
      "\u001b[0;31mRuntimeError\u001b[0m                              Traceback (most recent call last)",
      "Cell \u001b[0;32mIn[76], line 11\u001b[0m\n\u001b[1;32m      9\u001b[0m x \u001b[38;5;241m=\u001b[39m seq[k]\u001b[38;5;241m.\u001b[39mclone()\u001b[38;5;241m.\u001b[39mdetach()\n\u001b[1;32m     10\u001b[0m optimizer\u001b[38;5;241m.\u001b[39mzero_grad()\n\u001b[0;32m---> 11\u001b[0m \u001b[43mmodel\u001b[49m\u001b[38;5;241;43m.\u001b[39;49m\u001b[43minference\u001b[49m\u001b[43m(\u001b[49m\u001b[43minf_iters\u001b[49m\u001b[43m,\u001b[49m\u001b[43m \u001b[49m\u001b[43minf_lr\u001b[49m\u001b[43m,\u001b[49m\u001b[43m \u001b[49m\u001b[43mx\u001b[49m\u001b[43m,\u001b[49m\u001b[43m \u001b[49m\u001b[43mprev_z\u001b[49m\u001b[43m)\u001b[49m\n\u001b[1;32m     12\u001b[0m energy \u001b[38;5;241m=\u001b[39m model\u001b[38;5;241m.\u001b[39mupdate_grads(x, prev_z)\n\u001b[1;32m     13\u001b[0m energy\u001b[38;5;241m.\u001b[39mbackward()\n",
      "File \u001b[0;32m~/Documents/Oxford/Rotation2/HIP_V1_PCN/src/models.py:187\u001b[0m, in \u001b[0;36mMultilayertPC.inference\u001b[0;34m(self, inf_iters, inf_lr, x, prev_z, update_x)\u001b[0m\n\u001b[1;32m    185\u001b[0m \u001b[38;5;66;03m# update the values nodes\u001b[39;00m\n\u001b[1;32m    186\u001b[0m \u001b[38;5;28;01mfor\u001b[39;00m i \u001b[38;5;129;01min\u001b[39;00m \u001b[38;5;28mrange\u001b[39m(inf_iters):\n\u001b[0;32m--> 187\u001b[0m     \u001b[38;5;28;43mself\u001b[39;49m\u001b[38;5;241;43m.\u001b[39;49m\u001b[43mupdate_nodes\u001b[49m\u001b[43m(\u001b[49m\u001b[43mx\u001b[49m\u001b[43m,\u001b[49m\u001b[43m \u001b[49m\u001b[43mprev_z\u001b[49m\u001b[43m,\u001b[49m\u001b[43m \u001b[49m\u001b[43minf_lr\u001b[49m\u001b[43m,\u001b[49m\u001b[43m \u001b[49m\u001b[43mupdate_x\u001b[49m\u001b[43m)\u001b[49m\n",
      "File \u001b[0;32m~/Documents/Oxford/Rotation2/HIP_V1_PCN/src/models.py:166\u001b[0m, in \u001b[0;36mMultilayertPC.update_nodes\u001b[0;34m(self, x, prev_z, inf_lr, update_x)\u001b[0m\n\u001b[1;32m    165\u001b[0m \u001b[38;5;28;01mdef\u001b[39;00m \u001b[38;5;21mupdate_nodes\u001b[39m(\u001b[38;5;28mself\u001b[39m, x, prev_z, inf_lr, update_x\u001b[38;5;241m=\u001b[39m\u001b[38;5;28;01mFalse\u001b[39;00m):\n\u001b[0;32m--> 166\u001b[0m     err_z, err_x \u001b[38;5;241m=\u001b[39m \u001b[38;5;28;43mself\u001b[39;49m\u001b[38;5;241;43m.\u001b[39;49m\u001b[43mupdate_errs\u001b[49m\u001b[43m(\u001b[49m\u001b[43mx\u001b[49m\u001b[43m,\u001b[49m\u001b[43m \u001b[49m\u001b[43mprev_z\u001b[49m\u001b[43m)\u001b[49m\n\u001b[1;32m    167\u001b[0m     delta_z \u001b[38;5;241m=\u001b[39m err_z \u001b[38;5;241m-\u001b[39m \u001b[38;5;28mself\u001b[39m\u001b[38;5;241m.\u001b[39mnonlin\u001b[38;5;241m.\u001b[39mderiv(\u001b[38;5;28mself\u001b[39m\u001b[38;5;241m.\u001b[39mz) \u001b[38;5;241m*\u001b[39m torch\u001b[38;5;241m.\u001b[39mmatmul(err_x, \u001b[38;5;28mself\u001b[39m\u001b[38;5;241m.\u001b[39mWout\u001b[38;5;241m.\u001b[39mweight\u001b[38;5;241m.\u001b[39mdetach()\u001b[38;5;241m.\u001b[39mclone())\n\u001b[1;32m    168\u001b[0m     \u001b[38;5;28mself\u001b[39m\u001b[38;5;241m.\u001b[39mz \u001b[38;5;241m-\u001b[39m\u001b[38;5;241m=\u001b[39m inf_lr \u001b[38;5;241m*\u001b[39m delta_z\n",
      "File \u001b[0;32m~/Documents/Oxford/Rotation2/HIP_V1_PCN/src/models.py:162\u001b[0m, in \u001b[0;36mMultilayertPC.update_errs\u001b[0;34m(self, x, prev_z)\u001b[0m\n\u001b[1;32m    160\u001b[0m pred_x \u001b[38;5;241m=\u001b[39m \u001b[38;5;28mself\u001b[39m\u001b[38;5;241m.\u001b[39mWout(\u001b[38;5;28mself\u001b[39m\u001b[38;5;241m.\u001b[39mnonlin(\u001b[38;5;28mself\u001b[39m\u001b[38;5;241m.\u001b[39mz))\n\u001b[1;32m    161\u001b[0m err_z \u001b[38;5;241m=\u001b[39m \u001b[38;5;28mself\u001b[39m\u001b[38;5;241m.\u001b[39mz \u001b[38;5;241m-\u001b[39m pred_z\n\u001b[0;32m--> 162\u001b[0m err_x \u001b[38;5;241m=\u001b[39m \u001b[43mx\u001b[49m\u001b[43m \u001b[49m\u001b[38;5;241;43m-\u001b[39;49m\u001b[43m \u001b[49m\u001b[43mpred_x\u001b[49m\n\u001b[1;32m    163\u001b[0m \u001b[38;5;28;01mreturn\u001b[39;00m err_z, err_x\n",
      "\u001b[0;31mRuntimeError\u001b[0m: The size of tensor a (6) must match the size of tensor b (2) at non-singleton dimension 0"
     ]
    }
   ],
   "source": [
    "seq=tt\n",
    "seq_len = seq.shape[1]\n",
    "losses = []\n",
    "start_time = time.time()\n",
    "for learn_iter in range(learn_iters):\n",
    "    epoch_loss = 0\n",
    "    prev_z = model.init_hidden(batchsize).to(device)\n",
    "    for k in range(seq_len):\n",
    "        x = seq[k].clone().detach()\n",
    "        optimizer.zero_grad()\n",
    "        model.inference(inf_iters, inf_lr, x, prev_z)\n",
    "        energy = model.update_grads(x, prev_z)\n",
    "        energy.backward()\n",
    "        optimizer.step()\n",
    "        prev_z = model.z.clone().detach()\n",
    "\n",
    "        # add up the loss value at each time step\n",
    "        epoch_loss += energy.item() / seq_len\n",
    "\n",
    "    losses.append(epoch_loss)\n",
    "    if (learn_iter + 1) % 10 == 0:\n",
    "        print(f'Epoch {learn_iter+1}, loss {epoch_loss}')\n"
   ]
  },
  {
   "cell_type": "code",
   "execution_count": 72,
   "id": "4749c631",
   "metadata": {},
   "outputs": [
    {
     "data": {
      "text/plain": [
       "torch.Size([2, 8])"
      ]
     },
     "execution_count": 72,
     "metadata": {},
     "output_type": "execute_result"
    }
   ],
   "source": [
    "prev_z.size()"
   ]
  },
  {
   "cell_type": "code",
   "execution_count": 73,
   "id": "d342e5b5",
   "metadata": {},
   "outputs": [
    {
     "data": {
      "text/plain": [
       "torch.Size([6, 48])"
      ]
     },
     "execution_count": 73,
     "metadata": {},
     "output_type": "execute_result"
    }
   ],
   "source": [
    "x.size()"
   ]
  },
  {
   "cell_type": "code",
   "execution_count": 46,
   "id": "b7a5e4c4",
   "metadata": {},
   "outputs": [
    {
     "data": {
      "text/plain": [
       "Text(0, 0.5, 'Loss')"
      ]
     },
     "execution_count": 46,
     "metadata": {},
     "output_type": "execute_result"
    },
    {
     "data": {
      "image/png": "[encoded data removed]",
      "text/plain": [
       "<Figure size 640x480 with 1 Axes>"
      ]
     },
     "metadata": {},
     "output_type": "display_data"
    }
   ],
   "source": [
    "plt.plot(PC_losses1+PC_losses2)\n",
    "plt.xlabel('Epoch')\n",
    "plt.ylabel('Loss')"
   ]
  },
  {
   "cell_type": "code",
   "execution_count": 55,
   "id": "cfacbd18",
   "metadata": {},
   "outputs": [
    {
     "name": "stdout",
     "output_type": "stream",
     "text": [
      "[4, 5, 6]\n",
      "[4, 5, 6]\n",
      "[4, 5, 6]\n"
     ]
    },
    {
     "data": {
      "text/plain": [
       "Text(0, 0.5, 'time step')"
      ]
     },
     "execution_count": 55,
     "metadata": {},
     "output_type": "execute_result"
    },
    {
     "data": {
      "image/png": "[encoded data removed]",
      "text/plain": [
       "<Figure size 900x500 with 3 Axes>"
      ]
     },
     "metadata": {},
     "output_type": "display_data"
    }
   ],
   "source": [
    "seq = [4,5,6]\n",
    "#seq = [1,2,3]\n",
    "seqt = seq2onehot(seq, num_classes)\n",
    "test = seqt\n",
    "\n",
    "model.eval()\n",
    "inf_iters = 200\n",
    "query = 'online'\n",
    "with torch.no_grad():\n",
    "    online_recall,_ = _recall(model, test, inf_iters, inf_lr, query, device)\n",
    "query = 'offline'\n",
    "with torch.no_grad():\n",
    "    offline_recall,_ = _recall(model, test, inf_iters, inf_lr, query, device)\n",
    "\n",
    "norm = mpl.colors.Normalize(vmin=0, vmax=1)\n",
    "fig, ax = plt.subplots(1,3, figsize =(9,5))\n",
    "\n",
    "ax[0].imshow(test.detach().numpy()[:,:num_classes], cmap='Blues', norm=norm)\n",
    "ax[0].set_title('Sequence')\n",
    "print(torch.argmax(test, axis=1).detach().numpy().tolist())\n",
    "\n",
    "ax[1].imshow(online_recall.detach().numpy()[:,:num_classes], cmap='Blues', norm=norm)\n",
    "print(recall2class(online_recall, num_classes,num_reps))\n",
    "ax[1].set_title('Online Recall')\n",
    "\n",
    "ax[2].imshow(offline_recall.detach().numpy()[:,:num_classes], cmap='Blues', norm=norm)\n",
    "print(recall2class(offline_recall, num_classes,num_reps))\n",
    "ax[2].set_title('Offline Recall')\n",
    "\n",
    "for i in range(3):\n",
    "    ax[i].set_xticks([])\n",
    "    ax[i].set_yticks([])\n",
    "    ax[i].set_xlabel('unit')\n",
    "ax[0].set_ylabel('time step')"
   ]
  },
  {
   "cell_type": "code",
   "execution_count": null,
   "id": "f3e31ea3",
   "metadata": {},
   "outputs": [],
   "source": []
  }
 ],
 "metadata": {
  "kernelspec": {
   "display_name": "Python 3 (ipykernel)",
   "language": "python",
   "name": "python3"
  },
  "language_info": {
   "codemirror_mode": {
    "name": "ipython",
    "version": 3
   },
   "file_extension": ".py",
   "mimetype": "text/x-python",
   "name": "python",
   "nbconvert_exporter": "python",
   "pygments_lexer": "ipython3",
   "version": "3.8.8"
  }
 },
 "nbformat": 4,
 "nbformat_minor": 5
}
