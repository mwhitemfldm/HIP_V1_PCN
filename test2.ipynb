{
 "cells": [
  {
   "cell_type": "code",
   "execution_count": 18,
   "id": "5f9c194d",
   "metadata": {},
   "outputs": [],
   "source": [
    "import os\n",
    "import torch\n",
    "import torch.nn as nn\n",
    "import numpy as np\n",
    "import torch.nn.functional as F\n",
    "import matplotlib.pyplot as plt\n",
    "# plt.style.use('ggplot')\n",
    "from src.models import TemporalPC, MultilayertPC\n",
    "from src.utils import *\n",
    "from src.get_data import *"
   ]
  },
  {
   "cell_type": "code",
   "execution_count": 19,
   "id": "1235b31c",
   "metadata": {},
   "outputs": [],
   "source": [
    "tone_led = [[1,3], [2,4]]\n",
    "led_reward = [[3,5], [4,0]]"
   ]
  },
  {
   "cell_type": "code",
   "execution_count": 20,
   "id": "a031b9a5",
   "metadata": {},
   "outputs": [],
   "source": [
    "# sequences\n",
    "num_cues = 4\n",
    "# seq = random.randint(0,4)*[0]\n",
    "# for _ in range(num_cues):\n",
    "#     seq += random.randint(1,2)*[0] + random.choice(tone_led) \n",
    "\n",
    "seq = [1,2,3,2,1,2,3,2,1,2,3]\n",
    "inputs = nn.functional.one_hot(torch.tensor(seq), num_classes= num_cues)"
   ]
  },
  {
   "cell_type": "code",
   "execution_count": 21,
   "id": "03cd7f20",
   "metadata": {},
   "outputs": [
    {
     "name": "stdout",
     "output_type": "stream",
     "text": [
      "cpu\n"
     ]
    }
   ],
   "source": [
    "device = \"cuda\" if torch.cuda.is_available() else \"cpu\"\n",
    "print(device)\n",
    "\n",
    "result_path = os.path.join('./results/', 'moving_bar')\n",
    "if not os.path.exists(result_path):\n",
    "    os.makedirs(result_path)\n",
    "\n",
    "seq_len = inputs.size()[0]\n",
    "h, w = 5, 5\n",
    "inf_iters = 5 # for this experiment inf iters too large is harmful\n",
    "inf_lr = 5e-3\n",
    "learn_iters = 1500\n",
    "learn_lr = 1e-2\n",
    "latent_size = num_cues\n",
    "control_size = num_cues\n",
    "flattened_size = num_cues\n",
    "sparse_penal = 0\n",
    "n_cued = 1 # number of cued images\n",
    "assert(n_cued < seq_len)\n",
    "\n",
    "xs = inputs.to(device)\n",
    "us = torch.zeros((seq_len, control_size)).to(device)\n",
    "\n",
    "torch.manual_seed(1)\n",
    "model = TemporalPC(control_size, latent_size, flattened_size, nonlin='linear').to(device)\n",
    "optimizer = torch.optim.Adam(model.parameters(), lr=learn_lr)"
   ]
  },
  {
   "cell_type": "code",
   "execution_count": 22,
   "id": "cf53eeef",
   "metadata": {},
   "outputs": [
    {
     "name": "stdout",
     "output_type": "stream",
     "text": [
      "Iteration 1, loss 0.9837772737849841\n",
      "Iteration 51, loss 0.35543840918266634\n",
      "Iteration 101, loss 0.11135450187562541\n",
      "Iteration 151, loss 0.07255655275234445\n",
      "Iteration 201, loss 0.05035283147696067\n",
      "Iteration 251, loss 0.027989443357166074\n",
      "Iteration 301, loss 0.012477326487979471\n",
      "Iteration 351, loss 0.0059208618850706525\n",
      "Iteration 401, loss 0.0040196247176605875\n",
      "Iteration 451, loss 0.0035235688847024\n",
      "Iteration 501, loss 0.003310069886290214\n",
      "Iteration 551, loss 0.003115160023629538\n",
      "Iteration 601, loss 0.002899273939626503\n",
      "Iteration 651, loss 0.002666550083879635\n",
      "Iteration 701, loss 0.0024255045751818793\n",
      "Iteration 751, loss 0.0021834248655068222\n",
      "Iteration 801, loss 0.0019463933131191882\n",
      "Iteration 851, loss 0.0017191700399879749\n",
      "Iteration 901, loss 0.00150516549712682\n",
      "Iteration 951, loss 0.0013065266684861854\n",
      "Iteration 1001, loss 0.0011245637117760702\n",
      "Iteration 1051, loss 0.0009603015623724785\n",
      "Iteration 1101, loss 0.0008144753208563833\n",
      "Iteration 1151, loss 0.0006880686126929835\n",
      "Iteration 1201, loss 0.0005897918534752865\n",
      "Iteration 1251, loss 0.0005293172354289377\n",
      "Iteration 1301, loss 0.0004894424797509021\n",
      "Iteration 1351, loss 0.00045531530927498597\n",
      "Iteration 1401, loss 0.0004242512603334283\n",
      "Iteration 1451, loss 0.0008740141291293019\n"
     ]
    }
   ],
   "source": [
    "train_losses = []\n",
    "for learn_iter in range(learn_iters):\n",
    "    loss = 0\n",
    "    # prev_z = model.init_hidden(1).to(device)\n",
    "    prev_z = torch.zeros((1, latent_size)).to(device)\n",
    "    for k in range(seq_len):\n",
    "        x, u = xs[k,:], us[k,:]\n",
    "        optimizer.zero_grad()\n",
    "        model.inference(inf_iters, inf_lr, x, u, prev_z)\n",
    "        energy = model.update_grads(x, u, prev_z)\n",
    "        energy.backward()\n",
    "        optimizer.step()\n",
    "        prev_z = model.z.clone().detach()\n",
    "        loss += energy.item() / seq_len\n",
    "    train_losses.append(loss)\n",
    "    if learn_iter%50 == 0:\n",
    "        print(f'Iteration {learn_iter+1}, loss {loss}')"
   ]
  },
  {
   "cell_type": "code",
   "execution_count": 23,
   "id": "22795e37",
   "metadata": {},
   "outputs": [],
   "source": [
    "# retrieval\n",
    "# prev_z = model.init_hidden(1).to(device)\n",
    "prev_z = torch.zeros((1, latent_size)).to(device)\n",
    "# collect the cues\n",
    "cue = torch.zeros((seq_len, flattened_size))\n",
    "# collect the retrievals\n",
    "recall = torch.zeros((seq_len, flattened_size))\n",
    "\n",
    "inf_iters = 2000\n",
    "hiddens = []\n",
    "for k in range(seq_len-2):\n",
    "    x, u = xs[k+2, :], us[k+2, :] # [batch_size, 784]\n",
    "    if k + 1 <= n_cued:\n",
    "        model.inference(inf_iters, inf_lr, x, u, prev_z)\n",
    "        prev_z = model.z.clone().detach()\n",
    "        recall[k, :] = x.clone().detach()\n",
    "        cue[k, :] = x.clone().detach()\n",
    "    else:\n",
    "        prev_z, pred_x = model(u, prev_z)\n",
    "        recall[k, :] = pred_x\n",
    "        cue[k, :] = torch.zeros_like(pred_x)\n",
    "    hiddens.append(prev_z.clone().detach())\n"
   ]
  },
  {
   "cell_type": "code",
   "execution_count": 24,
   "id": "11de96b7",
   "metadata": {},
   "outputs": [
    {
     "data": {
      "text/plain": [
       "tensor([[0., 0., 0., 1.],\n",
       "        [0., 0., 0., 0.],\n",
       "        [0., 0., 0., 0.],\n",
       "        [0., 0., 0., 0.],\n",
       "        [0., 0., 0., 0.],\n",
       "        [0., 0., 0., 0.],\n",
       "        [0., 0., 0., 0.],\n",
       "        [0., 0., 0., 0.],\n",
       "        [0., 0., 0., 0.],\n",
       "        [0., 0., 0., 0.],\n",
       "        [0., 0., 0., 0.]])"
      ]
     },
     "execution_count": 24,
     "metadata": {},
     "output_type": "execute_result"
    }
   ],
   "source": [
    "cue"
   ]
  },
  {
   "cell_type": "code",
   "execution_count": 32,
   "id": "cbdf55f1",
   "metadata": {},
   "outputs": [
    {
     "data": {
      "text/plain": [
       "tensor([3, 3, 1, 1, 3, 3, 1, 1, 3, 0, 0])"
      ]
     },
     "execution_count": 32,
     "metadata": {},
     "output_type": "execute_result"
    }
   ],
   "source": [
    "torch.argmax(recall, axis=1)\n"
   ]
  },
  {
   "cell_type": "code",
   "execution_count": 26,
   "id": "ec420855",
   "metadata": {},
   "outputs": [
    {
     "data": {
      "text/plain": [
       "<StemContainer object of 3 artists>"
      ]
     },
     "execution_count": 26,
     "metadata": {},
     "output_type": "execute_result"
    },
    {
     "data": {
      "image/png": "[encoded data removed]",
      "text/plain": [
       "<Figure size 432x288 with 1 Axes>"
      ]
     },
     "metadata": {
      "needs_background": "light"
     },
     "output_type": "display_data"
    }
   ],
   "source": [
    "plt.stem([12,3,4,5], linefmt='k', markerfmt='ok', basefmt = 'r')"
   ]
  },
  {
   "cell_type": "code",
   "execution_count": 27,
   "id": "538f94cd",
   "metadata": {},
   "outputs": [
    {
     "data": {
      "image/png": "[encoded data removed]",
      "text/plain": [
       "<Figure size 864x108 with 7 Axes>"
      ]
     },
     "metadata": {
      "needs_background": "light"
     },
     "output_type": "display_data"
    }
   ],
   "source": [
    "fig, ax = plt.subplots(1, 7, figsize=(12, 1.5), sharey=True)\n",
    "for i in range(7):\n",
    "    ax[i].stem(to_np(hiddens[i]).reshape((latent_size)), linefmt='k', markerfmt='ok', basefmt = 'r')\n",
    "    ax[i].set_xticks([])\n",
    "    ax[i].set_frame_on(False)\n",
    "    if i != 0:\n",
    "        ax[i].tick_params(left=False)\n",
    "    ax[i].set_title(seq[i+2])\n",
    "plt.tight_layout()\n",
    "#plt.savefig(result_path + '/moving_bar_hidden.pdf')\n"
   ]
  },
  {
   "cell_type": "code",
   "execution_count": 28,
   "id": "d268421c",
   "metadata": {},
   "outputs": [
    {
     "data": {
      "text/plain": [
       "[tensor([[ 0.1534,  0.1414, -0.0844, -0.1201]]),\n",
       " tensor([[ 0.0702, -0.0193, -0.1109, -0.5568]]),\n",
       " tensor([[-0.0818, -0.0270,  0.0728, -0.1823]]),\n",
       " tensor([[ 0.0059, -0.1442,  0.1566,  0.3506]]),\n",
       " tensor([[ 0.1532,  0.1421, -0.0865, -0.1293]]),\n",
       " tensor([[ 0.0676, -0.0214, -0.1084, -0.5542]]),\n",
       " tensor([[-0.0817, -0.0276,  0.0749, -0.1731]]),\n",
       " tensor([[ 0.0084, -0.1421,  0.1541,  0.3480]]),\n",
       " tensor([[ 0.1530,  0.1428, -0.0886, -0.1384]])]"
      ]
     },
     "execution_count": 28,
     "metadata": {},
     "output_type": "execute_result"
    }
   ],
   "source": [
    "hiddens"
   ]
  },
  {
   "cell_type": "code",
   "execution_count": null,
   "id": "08219eea",
   "metadata": {},
   "outputs": [],
   "source": []
  },
  {
   "cell_type": "code",
   "execution_count": 193,
   "id": "8f35980f",
   "metadata": {},
   "outputs": [
    {
     "data": {
      "text/plain": [
       "[<matplotlib.lines.Line2D at 0x7fe2f838c1f0>]"
      ]
     },
     "execution_count": 193,
     "metadata": {},
     "output_type": "execute_result"
    },
    {
     "data": {
      "image/png": "[encoded data removed]",
      "text/plain": [
       "<Figure size 432x288 with 1 Axes>"
      ]
     },
     "metadata": {
      "needs_background": "light"
     },
     "output_type": "display_data"
    }
   ],
   "source": [
    "plt.figure()\n",
    "plt.plot(train_losses)\n",
    "#plt.savefig(result_path + f'/losses_moving_bar', dpi=150)\n"
   ]
  },
  {
   "cell_type": "code",
   "execution_count": null,
   "id": "2443c376",
   "metadata": {},
   "outputs": [],
   "source": [
    "fig, ax = plt.subplots(3, math.ceil(seq_len/3), figsize=(9, 1.5), sharey=True)\n",
    "for i in range(seq_len):\n",
    "    ax[i].stem(to_np(hiddens[i]).reshape((latent_size)), linefmt='k', markerfmt='ok', basefmt = 'r')\n",
    "    ax[i].set_xticks([])\n",
    "    ax[i].set_frame_on(False)\n",
    "    if i != 0:\n",
    "        ax[i].tick_params(left=False)\n",
    "plt.tight_layout()\n",
    "#plt.savefig(result_path + '/moving_bar_hidden.pdf')\n"
   ]
  },
  {
   "cell_type": "code",
   "execution_count": null,
   "id": "8e4457b5",
   "metadata": {},
   "outputs": [],
   "source": [
    "img3 = to_np(model(us[1, :], hiddens[1])[1]).reshape((h, w))\n",
    "img5 = to_np(model(us[3, :], hiddens[3])[1]).reshape((h, w))\n",
    "fig, ax = plt.subplots(1, 2)\n",
    "ax[0].imshow(img3)\n",
    "ax[0].axis('off')\n",
    "ax[1].imshow(img5)\n",
    "ax[1].axis('off')\n",
    "#plt.savefig(result_path + '/forwarded.pdf')"
   ]
  },
  {
   "cell_type": "code",
   "execution_count": null,
   "id": "d16cb382",
   "metadata": {},
   "outputs": [],
   "source": []
  },
  {
   "cell_type": "code",
   "execution_count": null,
   "id": "9f4703c3",
   "metadata": {},
   "outputs": [],
   "source": []
  }
 ],
 "metadata": {
  "kernelspec": {
   "display_name": "seqmemenv",
   "language": "python",
   "name": "seqmemenv"
  },
  "language_info": {
   "codemirror_mode": {
    "name": "ipython",
    "version": 3
   },
   "file_extension": ".py",
   "mimetype": "text/x-python",
   "name": "python",
   "nbconvert_exporter": "python",
   "pygments_lexer": "ipython3",
   "version": "3.8.16"
  }
 },
 "nbformat": 4,
 "nbformat_minor": 5
}
