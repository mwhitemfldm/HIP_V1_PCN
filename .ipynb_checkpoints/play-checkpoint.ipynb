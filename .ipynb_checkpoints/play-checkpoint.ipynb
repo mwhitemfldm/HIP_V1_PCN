{
 "cells": [
  {
   "cell_type": "code",
   "execution_count": null,
   "id": "4d5a1776",
   "metadata": {},
   "outputs": [],
   "source": [
    "name: seqmemenv\n",
    "channels:\n",
    "  - defaults\n",
    "  - conda-forge\n",
    "dependencies:\n",
    "  - python=3.8\n",
    "  - numpy\n",
    "  - pytorch\n",
    "  - torchvision\n",
    "  - cudatoolkit\n",
    "  - matplotlib\n",
    "  - tqdm\n",
    "  - git\n",
    "  - seaborn\n",
    "  - scipy\n",
    "  - brewer2mpl"
   ]
  }
 ],
 "metadata": {
  "kernelspec": {
   "display_name": "Python 3 (ipykernel)",
   "language": "python",
   "name": "python3"
  },
  "language_info": {
   "codemirror_mode": {
    "name": "ipython",
    "version": 3
   },
   "file_extension": ".py",
   "mimetype": "text/x-python",
   "name": "python",
   "nbconvert_exporter": "python",
   "pygments_lexer": "ipython3",
   "version": "3.8.8"
  }
 },
 "nbformat": 4,
 "nbformat_minor": 5
}
