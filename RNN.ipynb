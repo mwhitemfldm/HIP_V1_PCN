{
 "cells": [
  {
   "cell_type": "code",
   "execution_count": 1,
   "id": "66b7f8b4",
   "metadata": {},
   "outputs": [],
   "source": [
    "import os\n",
    "import argparse\n",
    "import json\n",
    "import time\n",
    "import torch\n",
    "import torch.nn as nn\n",
    "import numpy as np\n",
    "import torch.nn.functional as F\n",
    "import matplotlib.pyplot as plt\n",
    "plt.style.use('ggplot')\n",
    "from src.models import TemporalPC, MultilayertPC\n",
    "from src.utils import *\n",
    "from src.get_data import *\n",
    "import matplotlib as mpl\n",
    "\n",
    "import torch\n",
    "import torch.nn as nn\n",
    "from torch.autograd import Variable\n",
    "from sklearn.model_selection import train_test_split\n",
    "from torch.utils.data import DataLoader, TensorDataset"
   ]
  },
  {
   "cell_type": "code",
   "execution_count": 31,
   "id": "a111938c",
   "metadata": {},
   "outputs": [],
   "source": [
    "# Create RNN Model\n",
    "class RNNModel(nn.Module):\n",
    "    def __init__(self, input_dim, hidden_dim, layer_dim, output_dim):\n",
    "        super(RNNModel, self).__init__()\n",
    "        \n",
    "        # Number of hidden dimensions\n",
    "        self.hidden_dim = hidden_dim\n",
    "        \n",
    "        # Number of hidden layers\n",
    "        self.layer_dim = layer_dim\n",
    "        \n",
    "        # RNN\n",
    "        self.rnn = nn.RNN(input_dim, hidden_dim, layer_dim, batch_first=True, nonlinearity='relu')\n",
    "        \n",
    "        # Readout layer\n",
    "        self.fc = nn.Linear(hidden_dim, output_dim)\n",
    "        \n",
    "    def forward(self, x):\n",
    "\n",
    "            # Initialize hidden state with zeros\n",
    "            h0 = Variable(torch.zeros(self.layer_dim, x.size(0), self.hidden_dim))\n",
    "            # One time step\n",
    "            out, hn = self.rnn(x.to(dtype=torch.float32), h0)\n",
    "            out = self.fc(out[:, -1, :]) \n",
    "            return out, hn\n"
   ]
  },
  {
   "cell_type": "code",
   "execution_count": 32,
   "id": "55647003",
   "metadata": {},
   "outputs": [],
   "source": [
    "# sequences\n",
    "num_classes = 8\n",
    "\n",
    "seqs_al = [[0,1,2], [0,4,5]]\n",
    "seqs_rl = [[0,2,3], [0,5,6]]\n",
    "seqs_inf = [[1,2,3], [4,5,6]]\n",
    "seqs = [seqs_al, seqs_rl, seqs_inf]\n",
    "\n",
    "inputs = {}\n",
    "labels = {}\n",
    "for ni, name in enumerate(['al', 'rl', 'inf']):\n",
    "    inp = [seq[:-1] for seq in seqs[ni]]\n",
    "    inp = nn.functional.one_hot(torch.tensor(inp), num_classes= num_classes)\n",
    "    lab = [seq[-1] for seq in seqs[ni]]\n",
    "    lab = nn.functional.one_hot(torch.tensor(lab), num_classes= num_classes)\n",
    "    inputs[name] = inp\n",
    "    labels[name] = lab\n"
   ]
  },
  {
   "cell_type": "code",
   "execution_count": 33,
   "id": "6dba5242",
   "metadata": {},
   "outputs": [],
   "source": [
    "# Data sets\n",
    "\n",
    "batch_size = 1\n",
    "\n",
    "datasets = {}\n",
    "for nm in ['al', 'rl', 'inf']:\n",
    "    train = TensorDataset(inputs[nm],labels[nm])\n",
    "    train_loader = DataLoader(train, batch_size = batch_size, shuffle = False)\n",
    "    datasets[nm] = train_loader\n",
    "\n",
    "    "
   ]
  },
  {
   "cell_type": "code",
   "execution_count": 83,
   "id": "0465d3df",
   "metadata": {},
   "outputs": [],
   "source": [
    "input_dim = num_classes   # input dimension\n",
    "hidden_dim = 3 # hidden layer dimension\n",
    "layer_dim = 1     # number of hidden layers\n",
    "output_dim = num_classes   # output dimension\n"
   ]
  },
  {
   "cell_type": "code",
   "execution_count": 84,
   "id": "3b153e79",
   "metadata": {},
   "outputs": [],
   "source": [
    "model = RNNModel(input_dim, hidden_dim, layer_dim, output_dim)\n",
    "error = nn.CrossEntropyLoss()\n",
    "learning_rate = 0.05\n",
    "optimizer = torch.optim.Adam(model.parameters(), lr=learning_rate)"
   ]
  },
  {
   "cell_type": "code",
   "execution_count": 85,
   "id": "fc7e6592",
   "metadata": {},
   "outputs": [],
   "source": [
    "num_epochs = 50\n",
    "seq_dim = 3 \n",
    "\n",
    "loss_list = []\n",
    "count_list = []\n",
    "accuracy_list = []\n",
    "count = 0\n",
    "\n",
    "for epoch in range(num_epochs):\n",
    "    for i, (s, l) in enumerate(datasets['al']):\n",
    "        \n",
    "        train  = s.long()\n",
    "        lbl = l.to(dtype=torch.float32)\n",
    "    \n",
    "        # Clear gradients\n",
    "        optimizer.zero_grad()\n",
    "        \n",
    "        # Forward propagation\n",
    "        outputs,_ = model(train)\n",
    "        \n",
    "        # Calculate softmax and cross entropy loss\n",
    "        loss = error(outputs, lbl)\n",
    "        \n",
    "        # Calculating gradients\n",
    "        loss.backward()\n",
    "        \n",
    "        # Update parameters\n",
    "        optimizer.step()\n",
    "        \n",
    "        loss_list.append(loss.data)\n",
    "        \n",
    "        count += 1\n",
    "        \n",
    "        if count % 10 == 0:\n",
    "            # Calculate Accuracy         \n",
    "            correct = 0\n",
    "            total = 0\n",
    "            # Iterate through test dataset\n",
    "            for inp_seq, lbls in datasets['inf']:\n",
    "                inp_seq = inp_seq.long()\n",
    "                \n",
    "                # Forward propagation\n",
    "                outputs,_ = model(inp_seq)\n",
    "                \n",
    "                # Get predictions from the maximum value\n",
    "                predicted = torch.max(outputs.data, 1)[1]\n",
    "                targeted = torch.max(lbls.data, 1)[1]\n",
    "                # Total number of labels\n",
    "                total += lbls.size(0)\n",
    "                \n",
    "                correct += (predicted == targeted ).sum()\n",
    "            \n",
    "            accuracy = 100 * correct / float(total)\n",
    " \n",
    "            #store loss and iteration\n",
    "            \n",
    "            count_list.append(count)\n",
    "            accuracy_list.append(accuracy)\n",
    "                \n",
    "for epoch in range(num_epochs):\n",
    "    for i, (s, l) in enumerate(datasets['rl']):\n",
    "        \n",
    "        train  = s.long()\n",
    "        lbl = l.to(dtype=torch.float32)\n",
    "    \n",
    "        # Clear gradients\n",
    "        optimizer.zero_grad()\n",
    "        \n",
    "        # Forward propagation\n",
    "        outputs,_ = model(train)\n",
    "        \n",
    "        # Calculate softmax and cross entropy loss\n",
    "        loss = error(outputs, lbl)\n",
    "        \n",
    "        # Calculating gradients\n",
    "        loss.backward()\n",
    "        \n",
    "        # Update parameters\n",
    "        optimizer.step()\n",
    "        \n",
    "        loss_list.append(loss.data)\n",
    "        \n",
    "        count += 1\n",
    "        \n",
    "        if count % 10 == 0:\n",
    "            # Calculate Accuracy         \n",
    "            correct = 0\n",
    "            total = 0\n",
    "            # Iterate through test dataset\n",
    "            for inp_seq, lbls in datasets['inf']:\n",
    "                inp_seq = inp_seq.long()\n",
    "                \n",
    "                # Forward propagation\n",
    "                outputs,_ = model(inp_seq)\n",
    "                \n",
    "                # Get predictions from the maximum value\n",
    "                predicted = torch.max(outputs.data, 1)[1]\n",
    "                targeted = torch.max(lbls.data, 1)[1]\n",
    "                # Total number of labels\n",
    "                total += lbls.size(0)\n",
    "                \n",
    "                correct += (predicted == targeted ).sum()\n",
    "            \n",
    "            accuracy = 100 * correct / float(total)\n",
    " \n",
    "            #store loss and iteration\n",
    "            \n",
    "            count_list.append(count)\n",
    "            accuracy_list.append(accuracy)\n",
    "                \n"
   ]
  },
  {
   "cell_type": "code",
   "execution_count": 86,
   "id": "355916bd",
   "metadata": {},
   "outputs": [
    {
     "data": {
      "text/plain": [
       "[<matplotlib.lines.Line2D at 0x7f81f914c5b0>]"
      ]
     },
     "execution_count": 86,
     "metadata": {},
     "output_type": "execute_result"
    },
    {
     "data": {
      "image/png": "[encoded data removed]",
      "text/plain": [
       "<Figure size 640x480 with 1 Axes>"
      ]
     },
     "metadata": {},
     "output_type": "display_data"
    }
   ],
   "source": [
    "plt.plot(loss_list)\n",
    "plt.plot(count_list, accuracy_list)"
   ]
  },
  {
   "cell_type": "code",
   "execution_count": 87,
   "id": "db4ef7c1",
   "metadata": {},
   "outputs": [
    {
     "data": {
      "text/plain": [
       "[tensor([[[0, 0, 0, 0, 1, 0, 0, 0],\n",
       "          [0, 0, 0, 0, 0, 1, 0, 0]]]),\n",
       " tensor([[0, 0, 0, 0, 0, 0, 1, 0]])]"
      ]
     },
     "execution_count": 87,
     "metadata": {},
     "output_type": "execute_result"
    }
   ],
   "source": [
    "inp, lb = datasets['inf']\n",
    "lb"
   ]
  },
  {
   "cell_type": "code",
   "execution_count": 88,
   "id": "08809197",
   "metadata": {},
   "outputs": [
    {
     "data": {
      "text/plain": [
       "tensor([[1, 0, 0, 0, 0, 0, 0, 0],\n",
       "        [0, 1, 0, 0, 0, 0, 0, 0]])"
      ]
     },
     "execution_count": 88,
     "metadata": {},
     "output_type": "execute_result"
    }
   ],
   "source": [
    "inputs['al'][0]"
   ]
  },
  {
   "cell_type": "code",
   "execution_count": 91,
   "id": "fceb7eb8",
   "metadata": {},
   "outputs": [
    {
     "data": {
      "text/plain": [
       "<StemContainer object of 3 artists>"
      ]
     },
     "execution_count": 91,
     "metadata": {},
     "output_type": "execute_result"
    },
    {
     "data": {
      "image/png": "[encoded data removed]",
      "text/plain": [
       "<Figure size 640x480 with 1 Axes>"
      ]
     },
     "metadata": {},
     "output_type": "display_data"
    }
   ],
   "source": [
    "out, hid = model(inputs['inf'][0].unsqueeze(dim=0))\n",
    "plt.stem(np.arange(hidden_dim), hid.detach().squeeze().numpy())"
   ]
  },
  {
   "cell_type": "code",
   "execution_count": 92,
   "id": "3371553e",
   "metadata": {},
   "outputs": [
    {
     "data": {
      "text/plain": [
       "<StemContainer object of 3 artists>"
      ]
     },
     "execution_count": 92,
     "metadata": {},
     "output_type": "execute_result"
    },
    {
     "data": {
      "image/png": "[encoded data removed]",
      "text/plain": [
       "<Figure size 640x480 with 1 Axes>"
      ]
     },
     "metadata": {},
     "output_type": "display_data"
    }
   ],
   "source": [
    "out, hid = model(inputs['inf'][1].unsqueeze(dim=0))\n",
    "plt.stem(np.arange(hidden_dim), hid.detach().squeeze().numpy())"
   ]
  },
  {
   "cell_type": "code",
   "execution_count": 186,
   "id": "457bddb1",
   "metadata": {},
   "outputs": [
    {
     "data": {
      "text/plain": [
       "tensor(3)"
      ]
     },
     "execution_count": 186,
     "metadata": {},
     "output_type": "execute_result"
    }
   ],
   "source": [
    "torch.argmax(model(lb[0]))"
   ]
  },
  {
   "cell_type": "code",
   "execution_count": 187,
   "id": "88f28404",
   "metadata": {},
   "outputs": [
    {
     "ename": "ValueError",
     "evalue": "not enough values to unpack (expected 2, got 1)",
     "output_type": "error",
     "traceback": [
      "\u001b[0;31m---------------------------------------------------------------------------\u001b[0m",
      "\u001b[0;31mValueError\u001b[0m                                Traceback (most recent call last)",
      "\u001b[0;32m/var/folders/6y/z1h4y1t94jvb186qws4p3qq40000gn/T/ipykernel_5433/1790382961.py\u001b[0m in \u001b[0;36m<module>\u001b[0;34m\u001b[0m\n\u001b[0;32m----> 1\u001b[0;31m \u001b[0mr\u001b[0m\u001b[0;34m,\u001b[0m \u001b[0mt\u001b[0m \u001b[0;34m=\u001b[0m \u001b[0mmodel\u001b[0m\u001b[0;34m(\u001b[0m\u001b[0minp\u001b[0m\u001b[0;34m[\u001b[0m\u001b[0;36m0\u001b[0m\u001b[0;34m]\u001b[0m\u001b[0;34m)\u001b[0m\u001b[0;34m\u001b[0m\u001b[0;34m\u001b[0m\u001b[0m\n\u001b[0m",
      "\u001b[0;31mValueError\u001b[0m: not enough values to unpack (expected 2, got 1)"
     ]
    }
   ],
   "source": [
    "r, t = model(inp[0])"
   ]
  },
  {
   "cell_type": "code",
   "execution_count": null,
   "id": "e2421902",
   "metadata": {},
   "outputs": [],
   "source": []
  }
 ],
 "metadata": {
  "kernelspec": {
   "display_name": "Python 3 (ipykernel)",
   "language": "python",
   "name": "python3"
  },
  "language_info": {
   "codemirror_mode": {
    "name": "ipython",
    "version": 3
   },
   "file_extension": ".py",
   "mimetype": "text/x-python",
   "name": "python",
   "nbconvert_exporter": "python",
   "pygments_lexer": "ipython3",
   "version": "3.8.8"
  }
 },
 "nbformat": 4,
 "nbformat_minor": 5
}
