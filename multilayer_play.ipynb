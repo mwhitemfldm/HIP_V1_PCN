{
 "cells": [
  {
   "cell_type": "code",
   "execution_count": 1,
   "id": "00d623a0",
   "metadata": {},
   "outputs": [
    {
     "ename": "ImportError",
     "evalue": "\n\nIMPORTANT: PLEASE READ THIS FOR ADVICE ON HOW TO SOLVE THIS ISSUE!\n\nImporting the numpy C-extensions failed. This error can happen for\nmany reasons, often due to issues with your setup or how NumPy was\ninstalled.\n\nWe have compiled some common reasons and troubleshooting tips at:\n\n    https://numpy.org/devdocs/user/troubleshooting-importerror.html\n\nPlease note and check the following:\n\n  * The Python version is: Python3.8 from \"/Users/miahannah/Documents/Oxford/Rotation2/HIP_V1_PCN/env/bin/python\"\n  * The NumPy version is: \"1.24.3\"\n\nand make sure that they are the versions you expect.\nPlease carefully study the documentation linked above for further help.\n\nOriginal error was: No module named 'numpy.core._multiarray_umath'\n",
     "output_type": "error",
     "traceback": [
      "\u001b[0;31m---------------------------------------------------------------------------\u001b[0m",
      "\u001b[0;31mModuleNotFoundError\u001b[0m                       Traceback (most recent call last)",
      "File \u001b[0;32m~/Documents/Oxford/Rotation2/HIP_V1_PCN/env/lib/python3.8/site-packages/numpy/core/__init__.py:23\u001b[0m\n\u001b[1;32m     22\u001b[0m \u001b[38;5;28;01mtry\u001b[39;00m:\n\u001b[0;32m---> 23\u001b[0m     \u001b[38;5;28;01mfrom\u001b[39;00m \u001b[38;5;21;01m.\u001b[39;00m \u001b[38;5;28;01mimport\u001b[39;00m multiarray\n\u001b[1;32m     24\u001b[0m \u001b[38;5;28;01mexcept\u001b[39;00m \u001b[38;5;167;01mImportError\u001b[39;00m \u001b[38;5;28;01mas\u001b[39;00m exc:\n",
      "File \u001b[0;32m~/Documents/Oxford/Rotation2/HIP_V1_PCN/env/lib/python3.8/site-packages/numpy/core/multiarray.py:10\u001b[0m\n\u001b[1;32m      9\u001b[0m \u001b[38;5;28;01mimport\u001b[39;00m \u001b[38;5;21;01mfunctools\u001b[39;00m\n\u001b[0;32m---> 10\u001b[0m \u001b[38;5;28;01mfrom\u001b[39;00m \u001b[38;5;21;01m.\u001b[39;00m \u001b[38;5;28;01mimport\u001b[39;00m overrides\n\u001b[1;32m     11\u001b[0m \u001b[38;5;28;01mfrom\u001b[39;00m \u001b[38;5;21;01m.\u001b[39;00m \u001b[38;5;28;01mimport\u001b[39;00m _multiarray_umath\n",
      "File \u001b[0;32m~/Documents/Oxford/Rotation2/HIP_V1_PCN/env/lib/python3.8/site-packages/numpy/core/overrides.py:6\u001b[0m\n\u001b[1;32m      4\u001b[0m \u001b[38;5;28;01mimport\u001b[39;00m \u001b[38;5;21;01mos\u001b[39;00m\n\u001b[0;32m----> 6\u001b[0m \u001b[38;5;28;01mfrom\u001b[39;00m \u001b[38;5;21;01mnumpy\u001b[39;00m\u001b[38;5;21;01m.\u001b[39;00m\u001b[38;5;21;01mcore\u001b[39;00m\u001b[38;5;21;01m.\u001b[39;00m\u001b[38;5;21;01m_multiarray_umath\u001b[39;00m \u001b[38;5;28;01mimport\u001b[39;00m (\n\u001b[1;32m      7\u001b[0m     add_docstring, implement_array_function, _get_implementing_args)\n\u001b[1;32m      8\u001b[0m \u001b[38;5;28;01mfrom\u001b[39;00m \u001b[38;5;21;01mnumpy\u001b[39;00m\u001b[38;5;21;01m.\u001b[39;00m\u001b[38;5;21;01mcompat\u001b[39;00m\u001b[38;5;21;01m.\u001b[39;00m\u001b[38;5;21;01m_inspect\u001b[39;00m \u001b[38;5;28;01mimport\u001b[39;00m getargspec\n",
      "\u001b[0;31mModuleNotFoundError\u001b[0m: No module named 'numpy.core._multiarray_umath'",
      "\nDuring handling of the above exception, another exception occurred:\n",
      "\u001b[0;31mImportError\u001b[0m                               Traceback (most recent call last)",
      "Cell \u001b[0;32mIn[1], line 5\u001b[0m\n\u001b[1;32m      3\u001b[0m \u001b[38;5;28;01mimport\u001b[39;00m \u001b[38;5;21;01mjson\u001b[39;00m\n\u001b[1;32m      4\u001b[0m \u001b[38;5;28;01mimport\u001b[39;00m \u001b[38;5;21;01mtime\u001b[39;00m\n\u001b[0;32m----> 5\u001b[0m \u001b[38;5;28;01mimport\u001b[39;00m \u001b[38;5;21;01mtorch\u001b[39;00m\n\u001b[1;32m      6\u001b[0m \u001b[38;5;28;01mimport\u001b[39;00m \u001b[38;5;21;01mtorch\u001b[39;00m\u001b[38;5;21;01m.\u001b[39;00m\u001b[38;5;21;01mnn\u001b[39;00m \u001b[38;5;28;01mas\u001b[39;00m \u001b[38;5;21;01mnn\u001b[39;00m\n\u001b[1;32m      7\u001b[0m \u001b[38;5;28;01mimport\u001b[39;00m \u001b[38;5;21;01mpandas\u001b[39;00m \u001b[38;5;28;01mas\u001b[39;00m \u001b[38;5;21;01mpd\u001b[39;00m\n",
      "File \u001b[0;32m~/Documents/Oxford/Rotation2/HIP_V1_PCN/env/lib/python3.8/site-packages/torch/__init__.py:676\u001b[0m\n\u001b[1;32m    671\u001b[0m \u001b[38;5;66;03m################################################################################\u001b[39;00m\n\u001b[1;32m    672\u001b[0m \u001b[38;5;66;03m# Define Storage and Tensor classes\u001b[39;00m\n\u001b[1;32m    673\u001b[0m \u001b[38;5;66;03m################################################################################\u001b[39;00m\n\u001b[1;32m    675\u001b[0m \u001b[38;5;28;01mfrom\u001b[39;00m \u001b[38;5;21;01m.\u001b[39;00m\u001b[38;5;21;01m_tensor\u001b[39;00m \u001b[38;5;28;01mimport\u001b[39;00m Tensor\n\u001b[0;32m--> 676\u001b[0m \u001b[38;5;28;01mfrom\u001b[39;00m \u001b[38;5;21;01m.\u001b[39;00m\u001b[38;5;21;01mstorage\u001b[39;00m \u001b[38;5;28;01mimport\u001b[39;00m _StorageBase, TypedStorage, _LegacyStorage, UntypedStorage\n\u001b[1;32m    678\u001b[0m \u001b[38;5;66;03m# NOTE: New <type>Storage classes should never be added. When adding a new\u001b[39;00m\n\u001b[1;32m    679\u001b[0m \u001b[38;5;66;03m# dtype, use torch.storage.TypedStorage directly.\u001b[39;00m\n\u001b[1;32m    681\u001b[0m \u001b[38;5;28;01mclass\u001b[39;00m \u001b[38;5;21;01mByteStorage\u001b[39;00m(_LegacyStorage):\n",
      "File \u001b[0;32m~/Documents/Oxford/Rotation2/HIP_V1_PCN/env/lib/python3.8/site-packages/torch/storage.py:11\u001b[0m\n\u001b[1;32m      9\u001b[0m \u001b[38;5;28;01mfrom\u001b[39;00m \u001b[38;5;21;01mfunctools\u001b[39;00m \u001b[38;5;28;01mimport\u001b[39;00m lru_cache\n\u001b[1;32m     10\u001b[0m \u001b[38;5;28;01mtry\u001b[39;00m:\n\u001b[0;32m---> 11\u001b[0m     \u001b[38;5;28;01mimport\u001b[39;00m \u001b[38;5;21;01mnumpy\u001b[39;00m \u001b[38;5;28;01mas\u001b[39;00m \u001b[38;5;21;01mnp\u001b[39;00m\n\u001b[1;32m     12\u001b[0m     HAS_NUMPY \u001b[38;5;241m=\u001b[39m \u001b[38;5;28;01mTrue\u001b[39;00m\n\u001b[1;32m     13\u001b[0m \u001b[38;5;28;01mexcept\u001b[39;00m \u001b[38;5;167;01mModuleNotFoundError\u001b[39;00m:\n",
      "File \u001b[0;32m~/Documents/Oxford/Rotation2/HIP_V1_PCN/env/lib/python3.8/site-packages/numpy/__init__.py:141\u001b[0m\n\u001b[1;32m    138\u001b[0m \u001b[38;5;66;03m# Allow distributors to run custom init code\u001b[39;00m\n\u001b[1;32m    139\u001b[0m \u001b[38;5;28;01mfrom\u001b[39;00m \u001b[38;5;21;01m.\u001b[39;00m \u001b[38;5;28;01mimport\u001b[39;00m _distributor_init\n\u001b[0;32m--> 141\u001b[0m \u001b[38;5;28;01mfrom\u001b[39;00m \u001b[38;5;21;01m.\u001b[39;00m \u001b[38;5;28;01mimport\u001b[39;00m core\n\u001b[1;32m    142\u001b[0m \u001b[38;5;28;01mfrom\u001b[39;00m \u001b[38;5;21;01m.\u001b[39;00m\u001b[38;5;21;01mcore\u001b[39;00m \u001b[38;5;28;01mimport\u001b[39;00m \u001b[38;5;241m*\u001b[39m\n\u001b[1;32m    143\u001b[0m \u001b[38;5;28;01mfrom\u001b[39;00m \u001b[38;5;21;01m.\u001b[39;00m \u001b[38;5;28;01mimport\u001b[39;00m compat\n",
      "File \u001b[0;32m~/Documents/Oxford/Rotation2/HIP_V1_PCN/env/lib/python3.8/site-packages/numpy/core/__init__.py:49\u001b[0m\n\u001b[1;32m     25\u001b[0m     \u001b[38;5;28;01mimport\u001b[39;00m \u001b[38;5;21;01msys\u001b[39;00m\n\u001b[1;32m     26\u001b[0m     msg \u001b[38;5;241m=\u001b[39m \u001b[38;5;124m\"\"\"\u001b[39m\n\u001b[1;32m     27\u001b[0m \n\u001b[1;32m     28\u001b[0m \u001b[38;5;124mIMPORTANT: PLEASE READ THIS FOR ADVICE ON HOW TO SOLVE THIS ISSUE!\u001b[39m\n\u001b[0;32m   (...)\u001b[0m\n\u001b[1;32m     47\u001b[0m \u001b[38;5;124m\"\"\"\u001b[39m \u001b[38;5;241m%\u001b[39m (sys\u001b[38;5;241m.\u001b[39mversion_info[\u001b[38;5;241m0\u001b[39m], sys\u001b[38;5;241m.\u001b[39mversion_info[\u001b[38;5;241m1\u001b[39m], sys\u001b[38;5;241m.\u001b[39mexecutable,\n\u001b[1;32m     48\u001b[0m         __version__, exc)\n\u001b[0;32m---> 49\u001b[0m     \u001b[38;5;28;01mraise\u001b[39;00m \u001b[38;5;167;01mImportError\u001b[39;00m(msg)\n\u001b[1;32m     50\u001b[0m \u001b[38;5;28;01mfinally\u001b[39;00m:\n\u001b[1;32m     51\u001b[0m     \u001b[38;5;28;01mfor\u001b[39;00m envkey \u001b[38;5;129;01min\u001b[39;00m env_added:\n",
      "\u001b[0;31mImportError\u001b[0m: \n\nIMPORTANT: PLEASE READ THIS FOR ADVICE ON HOW TO SOLVE THIS ISSUE!\n\nImporting the numpy C-extensions failed. This error can happen for\nmany reasons, often due to issues with your setup or how NumPy was\ninstalled.\n\nWe have compiled some common reasons and troubleshooting tips at:\n\n    https://numpy.org/devdocs/user/troubleshooting-importerror.html\n\nPlease note and check the following:\n\n  * The Python version is: Python3.8 from \"/Users/miahannah/Documents/Oxford/Rotation2/HIP_V1_PCN/env/bin/python\"\n  * The NumPy version is: \"1.24.3\"\n\nand make sure that they are the versions you expect.\nPlease carefully study the documentation linked above for further help.\n\nOriginal error was: No module named 'numpy.core._multiarray_umath'\n"
     ]
    }
   ],
   "source": [
    "import os\n",
    "import argparse\n",
    "import json\n",
    "import time\n",
    "import torch\n",
    "import torch.nn as nn\n",
    "import pandas as pd\n",
    "import numpy as np\n",
    "import torch.nn.functional as F\n",
    "import matplotlib.pyplot as plt\n",
    "plt.style.use('ggplot')\n",
    "from src.models import TemporalPC, MultilayertPC\n",
    "from src.utils import *\n",
    "from src.get_data import *\n",
    "import matplotlib as mpl"
   ]
  },
  {
   "cell_type": "code",
   "execution_count": null,
   "id": "0426a069",
   "metadata": {},
   "outputs": [],
   "source": [
    "def train_PC(model, optimizer, seq, learn_iters, inf_iters, inf_lr, device):\n",
    "    seq_len = seq.shape[0]\n",
    "    losses = []\n",
    "    start_time = time.time()\n",
    "    for learn_iter in range(learn_iters):\n",
    "        epoch_loss = 0\n",
    "        prev_z = model.init_hidden(1).to(device) ##### batchsize!!\n",
    "        for k in range(seq_len):\n",
    "            x = seq[k].clone().detach()\n",
    "            optimizer.zero_grad()\n",
    "            model.inference(inf_iters, inf_lr, x, prev_z)\n",
    "            energy = model.update_grads(x, prev_z)\n",
    "            energy.backward()\n",
    "            optimizer.step()\n",
    "            prev_z = model.z.clone().detach()\n",
    "\n",
    "            # add up the loss value at each time step\n",
    "            epoch_loss += energy.item() / seq_len\n",
    "\n",
    "        losses.append(epoch_loss)\n",
    "        if (learn_iter + 1) % 10 == 0:\n",
    "            print(f'Epoch {learn_iter+1}, loss {epoch_loss}')\n",
    "        \n",
    "    print(f'training PC complete, time: {time.time() - start_time}')\n",
    "    return losses\n",
    "\n",
    "def _recall(model, seq, inf_iters, inf_lr, query, device):\n",
    "    seq_len, N = seq.shape\n",
    "    recall = torch.zeros((seq_len, N)).to(device)\n",
    "    recall[0] = seq[0].clone().detach()\n",
    "    prev_z = model.init_hidden(1).to(device)\n",
    "    loss = 0\n",
    "    \n",
    "    if query == 'online':\n",
    "        # infer the latent state at each time step, given correct previous input\n",
    "        for k in range(seq_len-1):\n",
    "            x = seq[k].clone().detach()\n",
    "            model.inference(inf_iters, inf_lr, x, prev_z)\n",
    "            prev_z = model.z.clone().detach()\n",
    "            _, pred_x = model(prev_z)\n",
    "            recall[k+1] = pred_x\n",
    "            energy = model.update_grads(x, prev_z)\n",
    "            loss += energy.item() / seq_len\n",
    "\n",
    "\n",
    "    elif query == 'offline':\n",
    "        # only infer the latent of the cue, then forward pass\n",
    "        x = seq[0].clone().detach()\n",
    "        model.inference(inf_iters, inf_lr, x, prev_z)\n",
    "        prev_z = model.z.clone().detach()\n",
    "\n",
    "        # fast forward pass\n",
    "        for k in range(1, seq_len):\n",
    "            x = seq[k].clone().detach()\n",
    "            prev_z, pred_x = model(prev_z)\n",
    "            recall[k] = pred_x\n",
    "            energy = model.update_grads(x, prev_z)\n",
    "            loss += energy.item() / seq_len\n",
    "\n",
    "    return recall, loss\n"
   ]
  },
  {
   "cell_type": "code",
   "execution_count": null,
   "id": "d1527e24",
   "metadata": {},
   "outputs": [],
   "source": [
    "def seq2onehot(seq, num_classes, num_reps = 6):\n",
    "    L = len(seq)\n",
    "    t = torch.empty(L, num_reps*num_classes)\n",
    "    for i,s in enumerate(seq):\n",
    "        t[i,:] = nn.functional.one_hot(torch.tensor([s]), num_classes= num_classes).repeat(1,6).flatten()\n",
    "    return t\n",
    "        \n",
    "def recall2class(onehot, num_classes, num_reps = 6):\n",
    "    recall = []\n",
    "    for s in onehot:\n",
    "        r = torch.argmax(s[:num_classes]).detach().item()\n",
    "        recall.append(r)\n",
    "    return recall"
   ]
  },
  {
   "cell_type": "code",
   "execution_count": null,
   "id": "41091040",
   "metadata": {},
   "outputs": [],
   "source": [
    "# sequences\n",
    "num_classes = 8\n",
    "num_reps = 6\n",
    "\n",
    "seq = [1,2,0,1,2,0,0,4,5,0,0,1,2,0,4,5]\n",
    "seq1 = seq2onehot(seq, num_classes)\n",
    "\n",
    "seq = [2,3,0,0,2,3,0,5,6,0,2,3,0,0,5,6]\n",
    "seq2 = seq2onehot(seq, num_classes)\n",
    "\n",
    "\n",
    "seq = [1,2,0,4,5,0]\n",
    "seqt1 = seq2onehot(seq, num_classes)\n",
    "seq = [2,3,0,5,6,0]\n",
    "seqt2 = seq2onehot(seq, num_classes)\n",
    "seq = [1,2,3]\n",
    "seqt1 = seq2onehot(seq, num_classes)\n",
    "seq = [4,5,6]\n",
    "seqt2 = seq2onehot(seq, num_classes)\n"
   ]
  },
  {
   "cell_type": "code",
   "execution_count": null,
   "id": "4d674688",
   "metadata": {},
   "outputs": [],
   "source": [
    "# sequences\n",
    "num_classes = 8\n",
    "num_reps = 6\n",
    "\n",
    "seq = [1,2,0,4,5,0]\n",
    "seq1 = seq2onehot(seq, num_classes)\n",
    "\n",
    "seq = [0,2,3,0,5,6]\n",
    "seq2 = seq2onehot(seq, num_classes)\n",
    "\n",
    "\n",
    "# seq = [1,2,0,4,5,0]\n",
    "# seqt1 = seq2onehot(seq, num_classes)\n",
    "# seq = [2,3,0,5,6,0]\n",
    "# seqt2 = seq2onehot(seq, num_classes)\n",
    "seq = [1,2,3]\n",
    "seqt1 = seq2onehot(seq, num_classes)\n",
    "seq = [4,5,6]\n",
    "seqt2 = seq2onehot(seq, num_classes)\n"
   ]
  },
  {
   "cell_type": "code",
   "execution_count": null,
   "id": "02f0abdc",
   "metadata": {},
   "outputs": [],
   "source": [
    "device = \"cuda\" if torch.cuda.is_available() else \"cpu\"\n",
    "print(device)\n",
    "   \n",
    "num_cues = seq1[0].size()[0]\n",
    "seq_len = seq1.size()[0]\n",
    "inf_iters = 5 # for this experiment inf iters too large is harmful\n",
    "inf_lr = 0.01\n",
    "learn_iters = 200\n",
    "learn_lr = 0.01\n",
    "latent_size = 8\n",
    "input_size = num_cues\n",
    "control_size = num_cues\n",
    "sparse_penal = 0\n",
    "n_cued = 1 # number of cued images\n",
    "assert(n_cued < seq_len)\n",
    "\n",
    "torch.manual_seed(1)"
   ]
  },
  {
   "cell_type": "code",
   "execution_count": null,
   "id": "25fb11e6",
   "metadata": {},
   "outputs": [],
   "source": [
    "model = MultilayertPC(latent_size, input_size, nonlin='tanh').to(device)\n",
    "optimizer = torch.optim.Adam(model.parameters(), lr=learn_lr)\n",
    "\n",
    "PC_losses1 = train_PC(model, optimizer, seq1, 90, inf_iters, inf_lr, device)\n",
    "\n",
    "PC_losses2 = train_PC(model, optimizer, seq2, 40, inf_iters, inf_lr, device)"
   ]
  },
  {
   "cell_type": "code",
   "execution_count": 209,
   "id": "7c3ead1e",
   "metadata": {},
   "outputs": [
    {
     "data": {
      "text/plain": [
       "[<matplotlib.lines.Line2D at 0x7fc9257e0820>]"
      ]
     },
     "execution_count": 209,
     "metadata": {},
     "output_type": "execute_result"
    },
    {
     "data": {
      "image/png": "[encoded data removed]",
      "text/plain": [
       "<Figure size 432x288 with 1 Axes>"
      ]
     },
     "metadata": {},
     "output_type": "display_data"
    }
   ],
   "source": [
    "plt.plot(PC_losses1+PC_losses2)"
   ]
  },
  {
   "cell_type": "code",
   "execution_count": 536,
   "id": "2dfb767f",
   "metadata": {},
   "outputs": [
    {
     "ename": "RuntimeError",
     "evalue": "The size of tensor a (48) must match the size of tensor b (67) at non-singleton dimension 1",
     "output_type": "error",
     "traceback": [
      "\u001b[0;31m---------------------------------------------------------------------------\u001b[0m",
      "\u001b[0;31mRuntimeError\u001b[0m                              Traceback (most recent call last)",
      "Input \u001b[0;32mIn [536]\u001b[0m, in \u001b[0;36m<cell line: 8>\u001b[0;34m()\u001b[0m\n\u001b[1;32m      7\u001b[0m query \u001b[38;5;241m=\u001b[39m \u001b[38;5;124m'\u001b[39m\u001b[38;5;124monline\u001b[39m\u001b[38;5;124m'\u001b[39m\n\u001b[1;32m      8\u001b[0m \u001b[38;5;28;01mwith\u001b[39;00m torch\u001b[38;5;241m.\u001b[39mno_grad():\n\u001b[0;32m----> 9\u001b[0m     online_recall \u001b[38;5;241m=\u001b[39m \u001b[43m_recall\u001b[49m\u001b[43m(\u001b[49m\u001b[43mmodel\u001b[49m\u001b[43m,\u001b[49m\u001b[43m \u001b[49m\u001b[43mtest\u001b[49m\u001b[43m,\u001b[49m\u001b[43m \u001b[49m\u001b[43minf_iters\u001b[49m\u001b[43m,\u001b[49m\u001b[43m \u001b[49m\u001b[43minf_lr\u001b[49m\u001b[43m,\u001b[49m\u001b[43m \u001b[49m\u001b[43mquery\u001b[49m\u001b[43m,\u001b[49m\u001b[43m \u001b[49m\u001b[43mdevice\u001b[49m\u001b[43m)\u001b[49m\n\u001b[1;32m     10\u001b[0m query \u001b[38;5;241m=\u001b[39m \u001b[38;5;124m'\u001b[39m\u001b[38;5;124moffline\u001b[39m\u001b[38;5;124m'\u001b[39m\n\u001b[1;32m     11\u001b[0m \u001b[38;5;28;01mwith\u001b[39;00m torch\u001b[38;5;241m.\u001b[39mno_grad():\n",
      "Input \u001b[0;32mIn [534]\u001b[0m, in \u001b[0;36m_recall\u001b[0;34m(model, seq, inf_iters, inf_lr, query, device)\u001b[0m\n\u001b[1;32m     36\u001b[0m \u001b[38;5;28;01mfor\u001b[39;00m k \u001b[38;5;129;01min\u001b[39;00m \u001b[38;5;28mrange\u001b[39m(seq_len\u001b[38;5;241m-\u001b[39m\u001b[38;5;241m1\u001b[39m):\n\u001b[1;32m     37\u001b[0m     x \u001b[38;5;241m=\u001b[39m seq[k]\u001b[38;5;241m.\u001b[39mclone()\u001b[38;5;241m.\u001b[39mdetach()\n\u001b[0;32m---> 38\u001b[0m     \u001b[43mmodel\u001b[49m\u001b[38;5;241;43m.\u001b[39;49m\u001b[43minference\u001b[49m\u001b[43m(\u001b[49m\u001b[43minf_iters\u001b[49m\u001b[43m,\u001b[49m\u001b[43m \u001b[49m\u001b[43minf_lr\u001b[49m\u001b[43m,\u001b[49m\u001b[43m \u001b[49m\u001b[43mx\u001b[49m\u001b[43m,\u001b[49m\u001b[43m \u001b[49m\u001b[43mprev_z\u001b[49m\u001b[43m)\u001b[49m\n\u001b[1;32m     39\u001b[0m     prev_z \u001b[38;5;241m=\u001b[39m model\u001b[38;5;241m.\u001b[39mz\u001b[38;5;241m.\u001b[39mclone()\u001b[38;5;241m.\u001b[39mdetach()\n\u001b[1;32m     40\u001b[0m     _, pred_x \u001b[38;5;241m=\u001b[39m model(prev_z)\n",
      "File \u001b[0;32m~/Documents/Oxford/Rotation2/HIP_V1_PCN/src/models.py:187\u001b[0m, in \u001b[0;36mMultilayertPC.inference\u001b[0;34m(self, inf_iters, inf_lr, x, prev_z, update_x)\u001b[0m\n\u001b[1;32m    185\u001b[0m \u001b[38;5;66;03m# update the values nodes\u001b[39;00m\n\u001b[1;32m    186\u001b[0m \u001b[38;5;28;01mfor\u001b[39;00m i \u001b[38;5;129;01min\u001b[39;00m \u001b[38;5;28mrange\u001b[39m(inf_iters):\n\u001b[0;32m--> 187\u001b[0m     \u001b[38;5;28;43mself\u001b[39;49m\u001b[38;5;241;43m.\u001b[39;49m\u001b[43mupdate_nodes\u001b[49m\u001b[43m(\u001b[49m\u001b[43mx\u001b[49m\u001b[43m,\u001b[49m\u001b[43m \u001b[49m\u001b[43mprev_z\u001b[49m\u001b[43m,\u001b[49m\u001b[43m \u001b[49m\u001b[43minf_lr\u001b[49m\u001b[43m,\u001b[49m\u001b[43m \u001b[49m\u001b[43mupdate_x\u001b[49m\u001b[43m)\u001b[49m\n",
      "File \u001b[0;32m~/Documents/Oxford/Rotation2/HIP_V1_PCN/src/models.py:166\u001b[0m, in \u001b[0;36mMultilayertPC.update_nodes\u001b[0;34m(self, x, prev_z, inf_lr, update_x)\u001b[0m\n\u001b[1;32m    165\u001b[0m \u001b[38;5;28;01mdef\u001b[39;00m \u001b[38;5;21mupdate_nodes\u001b[39m(\u001b[38;5;28mself\u001b[39m, x, prev_z, inf_lr, update_x\u001b[38;5;241m=\u001b[39m\u001b[38;5;28;01mFalse\u001b[39;00m):\n\u001b[0;32m--> 166\u001b[0m     err_z, err_x \u001b[38;5;241m=\u001b[39m \u001b[38;5;28;43mself\u001b[39;49m\u001b[38;5;241;43m.\u001b[39;49m\u001b[43mupdate_errs\u001b[49m\u001b[43m(\u001b[49m\u001b[43mx\u001b[49m\u001b[43m,\u001b[49m\u001b[43m \u001b[49m\u001b[43mprev_z\u001b[49m\u001b[43m)\u001b[49m\n\u001b[1;32m    167\u001b[0m     delta_z \u001b[38;5;241m=\u001b[39m err_z \u001b[38;5;241m-\u001b[39m \u001b[38;5;28mself\u001b[39m\u001b[38;5;241m.\u001b[39mnonlin\u001b[38;5;241m.\u001b[39mderiv(\u001b[38;5;28mself\u001b[39m\u001b[38;5;241m.\u001b[39mz) \u001b[38;5;241m*\u001b[39m torch\u001b[38;5;241m.\u001b[39mmatmul(err_x, \u001b[38;5;28mself\u001b[39m\u001b[38;5;241m.\u001b[39mWout\u001b[38;5;241m.\u001b[39mweight\u001b[38;5;241m.\u001b[39mdetach()\u001b[38;5;241m.\u001b[39mclone())\n\u001b[1;32m    168\u001b[0m     \u001b[38;5;28mself\u001b[39m\u001b[38;5;241m.\u001b[39mz \u001b[38;5;241m-\u001b[39m\u001b[38;5;241m=\u001b[39m inf_lr \u001b[38;5;241m*\u001b[39m delta_z\n",
      "File \u001b[0;32m~/Documents/Oxford/Rotation2/HIP_V1_PCN/src/models.py:162\u001b[0m, in \u001b[0;36mMultilayertPC.update_errs\u001b[0;34m(self, x, prev_z)\u001b[0m\n\u001b[1;32m    160\u001b[0m pred_x \u001b[38;5;241m=\u001b[39m \u001b[38;5;28mself\u001b[39m\u001b[38;5;241m.\u001b[39mWout(\u001b[38;5;28mself\u001b[39m\u001b[38;5;241m.\u001b[39mnonlin(\u001b[38;5;28mself\u001b[39m\u001b[38;5;241m.\u001b[39mz))\n\u001b[1;32m    161\u001b[0m err_z \u001b[38;5;241m=\u001b[39m \u001b[38;5;28mself\u001b[39m\u001b[38;5;241m.\u001b[39mz \u001b[38;5;241m-\u001b[39m pred_z\n\u001b[0;32m--> 162\u001b[0m err_x \u001b[38;5;241m=\u001b[39m \u001b[43mx\u001b[49m\u001b[43m \u001b[49m\u001b[38;5;241;43m-\u001b[39;49m\u001b[43m \u001b[49m\u001b[43mpred_x\u001b[49m\n\u001b[1;32m    163\u001b[0m \u001b[38;5;28;01mreturn\u001b[39;00m err_z, err_x\n",
      "\u001b[0;31mRuntimeError\u001b[0m: The size of tensor a (48) must match the size of tensor b (67) at non-singleton dimension 1"
     ]
    }
   ],
   "source": [
    "seq = [1,2,3]\n",
    "seqt = seq2onehot(seq, num_classes)\n",
    "test = seqt\n",
    "\n",
    "model.eval()\n",
    "inf_iters = 200\n",
    "query = 'online'\n",
    "with torch.no_grad():\n",
    "    online_recall = _recall(model, test, inf_iters, inf_lr, query, device)\n",
    "query = 'offline'\n",
    "with torch.no_grad():\n",
    "    offline_recall = _recall(model, test, inf_iters, inf_lr, query, device)\n",
    "\n",
    "norm = mpl.colors.Normalize(vmin=0, vmax=1)\n",
    "fig, ax = plt.subplots(1,3)\n",
    "\n",
    "ax[0].imshow(test.detach().numpy()[:,:num_classes], cmap='Blues', norm=norm)\n",
    "ax[0].set_title('Sequence')\n",
    "print(torch.argmax(test, axis=1).detach().numpy().tolist())\n",
    "\n",
    "ax[1].imshow(online_recall.detach().numpy()[:,:num_classes], cmap='Blues', norm=norm)\n",
    "print(recall2class(online_recall, num_classes,num_reps))\n",
    "ax[1].set_title('Online Recall')\n",
    "\n",
    "ax[2].imshow(offline_recall.detach().numpy()[:,:num_classes], cmap='Blues', norm=norm)\n",
    "print(recall2class(offline_recall, num_classes,num_reps))\n",
    "ax[2].set_title('Offline Recall')\n"
   ]
  },
  {
   "cell_type": "code",
   "execution_count": 226,
   "id": "f574e594",
   "metadata": {},
   "outputs": [
    {
     "data": {
      "text/plain": [
       "(8, 8)"
      ]
     },
     "execution_count": 226,
     "metadata": {},
     "output_type": "execute_result"
    }
   ],
   "source": [
    "test.detach().numpy()[:,:num_classes].shape"
   ]
  },
  {
   "cell_type": "code",
   "execution_count": 227,
   "id": "dac0b141",
   "metadata": {},
   "outputs": [],
   "source": [
    "# online hiddens\n",
    "prev_z = model.init_hidden(1).to(device)\n",
    "hiddens = []\n",
    "for k in range(len(test)):\n",
    "    x = test[k].clone().detach()\n",
    "    optimizer.zero_grad()\n",
    "    model.inference(inf_iters, inf_lr, x, prev_z)\n",
    "    prev_z = model.z.clone().detach()\n",
    "    hiddens.append(prev_z)\n"
   ]
  },
  {
   "cell_type": "code",
   "execution_count": 229,
   "id": "e1dfbe5a",
   "metadata": {},
   "outputs": [
    {
     "data": {
      "image/png": "[encoded data removed]",
      "text/plain": [
       "<Figure size 1152x288 with 8 Axes>"
      ]
     },
     "metadata": {},
     "output_type": "display_data"
    }
   ],
   "source": [
    "fig, ax = plt.subplots(2, 4, figsize=(16,4), sharey=True)\n",
    "ax = ax.flatten()\n",
    "for i in range(8):\n",
    "    ax[i].stem(to_np(hiddens[i]).reshape(-1), linefmt='k', markerfmt='ok', basefmt = 'r')\n",
    "    ax[i].set_xticks([])\n",
    "    ax[i].set_frame_on(False)\n",
    "    if i != 0:\n",
    "        ax[i].tick_params(left=False)\n",
    "    ax[i].set_title('x: ' + str(torch.argmax(test[i]).numpy()))\n",
    "plt.tight_layout()\n",
    "#plt.savefig(result_path + '/moving_bar_hidden.pdf')\n"
   ]
  },
  {
   "cell_type": "code",
   "execution_count": 493,
   "id": "0d8d4c33",
   "metadata": {},
   "outputs": [],
   "source": [
    "## Real Data\n",
    "\n",
    "al = pd.read_csv('results/AL_cuepops.csv', index_col=0)\n",
    "inftone = pd.read_csv('results/INF_tone_cuepops.csv', index_col=0)\n",
    "infled = pd.read_csv('results/INF_led_cuepops.csv', index_col=0)\n"
   ]
  },
  {
   "cell_type": "code",
   "execution_count": 498,
   "id": "64e41e50",
   "metadata": {},
   "outputs": [],
   "source": [
    "df = al\n",
    "rec_day = 5\n",
    "mouse_id = 'mhb99'\n",
    "md = df[(df.day == rec_day)&(df.mouse==mouse_id)].copy().reset_index()"
   ]
  },
  {
   "cell_type": "code",
   "execution_count": 499,
   "id": "2e1403d9",
   "metadata": {},
   "outputs": [
    {
     "data": {
      "text/plain": [
       "Index(['mouse', 'day', 'tone', 'post_tone', 'trial_type'], dtype='object')"
      ]
     },
     "execution_count": 499,
     "metadata": {},
     "output_type": "execute_result"
    }
   ],
   "source": [
    "inftone.columns"
   ]
  },
  {
   "cell_type": "code",
   "execution_count": 500,
   "id": "9b812da4",
   "metadata": {},
   "outputs": [],
   "source": [
    "idx = np.arange(md.led.shape[0]).tolist()\n",
    "test_idx = random.sample(idx, int(len(idx)/4))\n",
    "train_idx = [ids for ids in idx if ids not in test_idx]\n",
    "\n",
    "train_seq = []\n",
    "for dd in train_idx:\n",
    "    train_seq.append(eval(md.tone[dd]))\n",
    "    train_seq.append(eval(md.led[dd]))\n",
    "    train_seq.append(eval(md.post_led[dd]))\n",
    "\n",
    "train_seq = np.vstack(train_seq)\n",
    "train_inputs = torch.tensor(train_seq)\n",
    "    \n",
    "test_seq = []\n",
    "for dd in test_idx:\n",
    "    al_trial = []\n",
    "    al_trial.append(eval(md.tone[dd]))\n",
    "    al_trial.append(eval(md.led[dd]))\n",
    "    al_input = torch.tensor(np.vstack(al_trial))\n",
    "    test_seq.append(al_input)\n"
   ]
  },
  {
   "cell_type": "code",
   "execution_count": 501,
   "id": "a56d1c07",
   "metadata": {},
   "outputs": [
    {
     "name": "stdout",
     "output_type": "stream",
     "text": [
      "cpu\n"
     ]
    },
    {
     "data": {
      "text/plain": [
       "<torch._C.Generator at 0x7fc942833110>"
      ]
     },
     "execution_count": 501,
     "metadata": {},
     "output_type": "execute_result"
    }
   ],
   "source": [
    "device = \"cuda\" if torch.cuda.is_available() else \"cpu\"\n",
    "print(device)\n",
    "   \n",
    "num_cues = train_inputs[0].size()[0]\n",
    "seq_len = train_inputs.size()[0]\n",
    "inf_iters = 5 # for this experiment inf iters too large is harmful\n",
    "inf_lr = 0.01\n",
    "learn_iters = 800\n",
    "learn_lr = 0.01\n",
    "latent_size = 8\n",
    "input_size = num_cues\n",
    "control_size = num_cues\n",
    "sparse_penal = 0\n",
    "n_cued = 1 # number of cued images\n",
    "assert(n_cued < seq_len)\n",
    "\n",
    "torch.manual_seed(1)"
   ]
  },
  {
   "cell_type": "code",
   "execution_count": 502,
   "id": "9cba7422",
   "metadata": {},
   "outputs": [
    {
     "name": "stdout",
     "output_type": "stream",
     "text": [
      "Epoch 10, loss 4.801794936259586\n",
      "Epoch 20, loss 3.7494388995347205\n",
      "Epoch 30, loss 3.456626507971022\n",
      "Epoch 40, loss 3.3369343501550186\n",
      "Epoch 50, loss 3.2839640831505803\n",
      "Epoch 60, loss 3.259225319933008\n",
      "Epoch 70, loss 3.250653089196593\n",
      "Epoch 80, loss 3.243517293974206\n",
      "Epoch 90, loss 3.233385174362749\n",
      "Epoch 100, loss 3.2323354195665424\n",
      "Epoch 110, loss 3.2285905038868936\n",
      "Epoch 120, loss 3.2320791229053785\n",
      "Epoch 130, loss 3.220382306310865\n",
      "Epoch 140, loss 3.217608439701574\n",
      "Epoch 150, loss 3.213628239101834\n",
      "training PC complete, time: 30.42985701560974\n"
     ]
    }
   ],
   "source": [
    "model = MultilayertPC(latent_size, input_size, nonlin='tanh').to(device)\n",
    "optimizer = torch.optim.Adam(model.parameters(), lr=learn_lr)\n",
    "PC_losses1 = train_PC(model, optimizer, train_inputs.long(), 150, inf_iters, inf_lr, device)\n"
   ]
  },
  {
   "cell_type": "code",
   "execution_count": 503,
   "id": "398babb9",
   "metadata": {},
   "outputs": [
    {
     "data": {
      "text/plain": [
       "[<matplotlib.lines.Line2D at 0x7fc9013e35e0>]"
      ]
     },
     "execution_count": 503,
     "metadata": {},
     "output_type": "execute_result"
    },
    {
     "data": {
      "image/png": "[encoded data removed]",
      "text/plain": [
       "<Figure size 432x288 with 1 Axes>"
      ]
     },
     "metadata": {},
     "output_type": "display_data"
    }
   ],
   "source": [
    "plt.plot(PC_losses1)"
   ]
  },
  {
   "cell_type": "code",
   "execution_count": 504,
   "id": "4480db98",
   "metadata": {},
   "outputs": [],
   "source": [
    "on_losses = []\n",
    "off_losses = []\n",
    "for ii in range(len(test_seq)):\n",
    "    test = test_seq[ii].long()\n",
    "\n",
    "    model.eval()\n",
    "    inf_iters = 200\n",
    "    query = 'online'\n",
    "    with torch.no_grad():\n",
    "        online_recall, online_loss = _recall(model, test, inf_iters, inf_lr, query, device)\n",
    "    query = 'offline'\n",
    "    with torch.no_grad():\n",
    "        offline_recall, offline_loss = _recall(model, test, inf_iters, inf_lr, query, device)\n",
    "        \n",
    "    on_losses.append(online_loss)\n",
    "    off_losses.append(offline_loss)\n"
   ]
  },
  {
   "cell_type": "code",
   "execution_count": 505,
   "id": "54d33d09",
   "metadata": {},
   "outputs": [],
   "source": [
    "test_labs = []\n",
    "for dd in test_idx:\n",
    "    test_labs.append(md.trial_type[dd])\n"
   ]
  },
  {
   "cell_type": "code",
   "execution_count": 506,
   "id": "dade7d7b",
   "metadata": {},
   "outputs": [],
   "source": [
    "hiddens = []\n",
    "for ii in range(len(test_seq)):\n",
    "    test = test_seq[ii].long()\n",
    "    prev_z = model.init_hidden(1).to(device)\n",
    "    \n",
    "    for k in range(len(test)):\n",
    "        x = test[k].clone().detach()\n",
    "        optimizer.zero_grad()\n",
    "        model.inference(inf_iters, inf_lr, x, prev_z)\n",
    "        prev_z = model.z.clone().detach()\n",
    "        hiddens.append(prev_z.detach().numpy())\n",
    "\n",
    "#     trial_types.append()\n",
    "#     fig, ax = plt.subplots(1, 2, figsize=(16,4), sharey=True)\n",
    "#     ax = ax.flatten()\n",
    "#     for i in range(2):\n",
    "#         ax[i].stem(to_np(hiddens[i]).reshape(-1), linefmt='k', markerfmt='ok', basefmt = 'r')\n",
    "#         ax[i].set_xticks([])\n",
    "#         ax[i].set_frame_on(False)\n",
    "#         if i != 0:\n",
    "#             ax[i].tick_params(left=False)\n",
    "#         ax[i].set_title(['tone','led'][i])\n",
    "#     plt.tight_layout()\n"
   ]
  },
  {
   "cell_type": "code",
   "execution_count": 507,
   "id": "ff8e3e8a",
   "metadata": {},
   "outputs": [],
   "source": [
    "all_hiddens = np.vstack(hiddens)"
   ]
  },
  {
   "cell_type": "code",
   "execution_count": 508,
   "id": "925ac2a9",
   "metadata": {},
   "outputs": [],
   "source": [
    "from sklearn.manifold import MDS \n",
    "from sklearn.metrics.pairwise import manhattan_distances, euclidean_distances"
   ]
  },
  {
   "cell_type": "code",
   "execution_count": 509,
   "id": "e5b6efa5",
   "metadata": {},
   "outputs": [
    {
     "name": "stderr",
     "output_type": "stream",
     "text": [
      "/Users/miahannah/Documents/Oxford/Rotation2/HIP_V1_PCN/env/lib/python3.8/site-packages/sklearn/manifold/_mds.py:299: FutureWarning: The default value of `normalized_stress` will change to `'auto'` in version 1.4. To suppress this warning, manually set the value of `normalized_stress`.\n",
      "  warnings.warn(\n"
     ]
    }
   ],
   "source": [
    "X = euclidean_distances(all_hiddens)\n",
    "\n",
    "mds = MDS(dissimilarity='precomputed', random_state=0)\n",
    "X_transform = mds.fit_transform(X)"
   ]
  },
  {
   "cell_type": "code",
   "execution_count": 510,
   "id": "c51a524d",
   "metadata": {},
   "outputs": [
    {
     "data": {
      "text/plain": [
       "(12, 2)"
      ]
     },
     "execution_count": 510,
     "metadata": {},
     "output_type": "execute_result"
    }
   ],
   "source": [
    "X_transform.shape"
   ]
  },
  {
   "cell_type": "code",
   "execution_count": 511,
   "id": "71dcaf1d",
   "metadata": {},
   "outputs": [],
   "source": [
    "markerDict = {'sucrose':'orange', 'water':'green'}"
   ]
  },
  {
   "cell_type": "code",
   "execution_count": 512,
   "id": "d523875f",
   "metadata": {},
   "outputs": [],
   "source": [
    "cols = [markerDict[tl] for tl in test_labs]\n",
    "cols = list(np.repeat(cols,2))\n",
    "marks = ['x','o']*6"
   ]
  },
  {
   "cell_type": "code",
   "execution_count": 513,
   "id": "4357fe4f",
   "metadata": {},
   "outputs": [
    {
     "data": {
      "image/png": "[encoded data removed]",
      "text/plain": [
       "<Figure size 432x288 with 1 Axes>"
      ]
     },
     "metadata": {},
     "output_type": "display_data"
    }
   ],
   "source": [
    "for ii in range(X_transform.shape[0]):\n",
    "    plt.scatter(X_transform[ii,0],X_transform[ii,1], color = cols[ii], marker = marks[ii])"
   ]
  },
  {
   "cell_type": "code",
   "execution_count": 526,
   "id": "d1bc15cf",
   "metadata": {},
   "outputs": [
    {
     "data": {
      "text/plain": [
       "['mhb99', 'mhb100', 'mhb108', 'mhb124']"
      ]
     },
     "execution_count": 526,
     "metadata": {},
     "output_type": "execute_result"
    }
   ],
   "source": [
    "list(df.mouse.unique())"
   ]
  },
  {
   "cell_type": "code",
   "execution_count": 535,
   "id": "bbf28752",
   "metadata": {},
   "outputs": [
    {
     "name": "stdout",
     "output_type": "stream",
     "text": [
      "Epoch 10, loss 6.390869436716591\n",
      "Epoch 20, loss 5.589870926682595\n",
      "Epoch 30, loss 5.396909465875339\n",
      "Epoch 40, loss 5.333970571074772\n",
      "Epoch 50, loss 5.27826373655073\n",
      "Epoch 60, loss 5.2542144260196775\n",
      "Epoch 70, loss 5.250478053120553\n",
      "Epoch 80, loss 5.22035907384836\n",
      "Epoch 90, loss 5.21002041714059\n",
      "Epoch 100, loss 5.207913493237424\n",
      "Epoch 110, loss 5.198660427773442\n",
      "Epoch 120, loss 5.185777262637945\n",
      "Epoch 130, loss 5.183705659609082\n",
      "Epoch 140, loss 5.180588575769906\n",
      "Epoch 150, loss 5.185341172748143\n",
      "training PC complete, time: 30.72316598892212\n",
      "Epoch 10, loss 4.327041406046459\n",
      "Epoch 20, loss 3.1395326248559816\n",
      "Epoch 30, loss 2.726124958881108\n",
      "Epoch 40, loss 2.557526456509044\n",
      "Epoch 50, loss 2.483290158609938\n",
      "Epoch 60, loss 2.457655512733456\n",
      "Epoch 70, loss 2.4344801957715254\n",
      "Epoch 80, loss 2.4179081524034025\n",
      "Epoch 90, loss 2.4033975738523243\n",
      "Epoch 100, loss 2.390539411424133\n",
      "Epoch 110, loss 2.3772608260462422\n",
      "Epoch 120, loss 2.3663471194487538\n",
      "Epoch 130, loss 2.3581201332164246\n",
      "Epoch 140, loss 2.354395608413917\n",
      "Epoch 150, loss 2.3482951667748337\n",
      "training PC complete, time: 30.67033076286316\n",
      "Epoch 10, loss 5.950601935386656\n",
      "Epoch 20, loss 5.121432662010194\n",
      "Epoch 30, loss 4.925148846926511\n",
      "Epoch 40, loss 4.848764812504804\n",
      "Epoch 50, loss 4.819188221737192\n",
      "Epoch 60, loss 4.794586444342577\n",
      "Epoch 70, loss 4.789310291961387\n",
      "Epoch 80, loss 4.788384309521427\n",
      "Epoch 90, loss 4.774070053188889\n",
      "Epoch 100, loss 4.772779303568381\n",
      "Epoch 110, loss 4.769527620739409\n",
      "Epoch 120, loss 4.77596894900004\n",
      "Epoch 130, loss 4.753524716253633\n",
      "Epoch 140, loss 4.751491491441372\n",
      "Epoch 150, loss 4.7530610296461315\n",
      "training PC complete, time: 30.654874801635742\n",
      "Epoch 10, loss 3.891931524224305\n",
      "Epoch 20, loss 3.279950541513109\n",
      "Epoch 30, loss 3.1279925183755246\n",
      "Epoch 40, loss 3.06411495334167\n",
      "Epoch 50, loss 3.0450199563444267\n",
      "Epoch 60, loss 3.035342822457703\n",
      "Epoch 70, loss 3.0064544890957663\n",
      "Epoch 80, loss 3.0027327366524674\n",
      "Epoch 90, loss 2.9852164537700863\n",
      "Epoch 100, loss 2.983432110160788\n",
      "Epoch 110, loss 2.9823582899752417\n",
      "Epoch 120, loss 2.970116310273793\n",
      "Epoch 130, loss 2.9734859399279774\n",
      "Epoch 140, loss 2.969606699007004\n",
      "Epoch 150, loss 2.964947993525399\n",
      "training PC complete, time: 30.436618089675903\n",
      "Epoch 10, loss 1.438671329550238\n",
      "Epoch 20, loss 0.9941965778556618\n",
      "Epoch 30, loss 0.8045184986118263\n",
      "Epoch 40, loss 0.7122532391006612\n",
      "Epoch 50, loss 0.6892615412570764\n",
      "Epoch 60, loss 0.674635589126847\n",
      "Epoch 70, loss 0.6510175794694886\n",
      "Epoch 80, loss 0.6357256129913227\n",
      "Epoch 90, loss 0.6273201564959002\n",
      "Epoch 100, loss 0.6195050952964282\n",
      "Epoch 110, loss 0.6141035694946059\n",
      "Epoch 120, loss 0.6115590836418839\n",
      "Epoch 130, loss 0.6119633283821959\n",
      "Epoch 140, loss 0.6073429585525628\n",
      "Epoch 150, loss 0.6060068567480107\n",
      "training PC complete, time: 30.663936853408813\n",
      "Epoch 10, loss 5.114254696501626\n",
      "Epoch 20, loss 4.214860199778167\n",
      "Epoch 30, loss 3.890296851043348\n",
      "Epoch 40, loss 3.787105633152856\n",
      "Epoch 50, loss 3.757877948107543\n",
      "Epoch 60, loss 3.7254924873511\n",
      "Epoch 70, loss 3.716430314161159\n",
      "Epoch 80, loss 3.711611180393784\n",
      "Epoch 90, loss 3.713900772509751\n",
      "Epoch 100, loss 3.6981408927175736\n",
      "Epoch 110, loss 3.7100857065783615\n",
      "Epoch 120, loss 3.6892418701339644\n",
      "Epoch 130, loss 3.6819783509881416\n",
      "Epoch 140, loss 3.682298147016102\n",
      "Epoch 150, loss 3.6848627985627567\n",
      "training PC complete, time: 30.50229501724243\n"
     ]
    },
    {
     "data": {
      "image/png": "[encoded data removed]",
      "text/plain": [
       "<Figure size 432x288 with 1 Axes>"
      ]
     },
     "metadata": {},
     "output_type": "display_data"
    },
    {
     "data": {
      "image/png": "[encoded data removed]",
      "text/plain": [
       "<Figure size 432x288 with 1 Axes>"
      ]
     },
     "metadata": {},
     "output_type": "display_data"
    },
    {
     "data": {
      "image/png": "[encoded data removed]",
      "text/plain": [
       "<Figure size 432x288 with 1 Axes>"
      ]
     },
     "metadata": {},
     "output_type": "display_data"
    },
    {
     "data": {
      "image/png": "[encoded data removed]",
      "text/plain": [
       "<Figure size 432x288 with 1 Axes>"
      ]
     },
     "metadata": {},
     "output_type": "display_data"
    },
    {
     "data": {
      "image/png": "[encoded data removed]",
      "text/plain": [
       "<Figure size 432x288 with 1 Axes>"
      ]
     },
     "metadata": {},
     "output_type": "display_data"
    },
    {
     "data": {
      "image/png": "[encoded data removed]",
      "text/plain": [
       "<Figure size 432x288 with 1 Axes>"
      ]
     },
     "metadata": {},
     "output_type": "display_data"
    }
   ],
   "source": [
    "# Accross learning look at online accuracy\n",
    "mouse_ids = list(df.mouse.unique())\n",
    " \n",
    "res = {'mouse':[], 'day':[], 'type':[], 'loss':[]}\n",
    "for mouse_id in ['mhb99']:\n",
    "    for rec_day in range(df[df.mouse == 'mhb99'].day.max()+1):\n",
    "\n",
    "        md = df[(df.day == rec_day)&(df.mouse==mouse_id)].copy().reset_index()\n",
    "\n",
    "        idx = np.arange(md.led.shape[0]).tolist()\n",
    "        test_idx = random.sample(idx, int(len(idx)/4))\n",
    "        train_idx = [ids for ids in idx if ids not in test_idx]\n",
    "\n",
    "        train_seq = []\n",
    "        for dd in train_idx:\n",
    "            train_seq.append(eval(md.tone[dd]))\n",
    "            train_seq.append(eval(md.led[dd]))\n",
    "            train_seq.append(eval(md.post_led[dd]))\n",
    "\n",
    "        train_seq = np.vstack(train_seq)\n",
    "        train_inputs = torch.tensor(train_seq)\n",
    "\n",
    "        test_seq = []\n",
    "        for dd in test_idx:\n",
    "            al_trial = []\n",
    "            al_trial.append(eval(md.tone[dd]))\n",
    "            al_trial.append(eval(md.led[dd]))\n",
    "            al_input = torch.tensor(np.vstack(al_trial))\n",
    "            test_seq.append(al_input)\n",
    "            \n",
    "        num_cues = train_inputs[0].size()[0]\n",
    "        seq_len = train_inputs.size()[0]\n",
    "        inf_iters = 5 # for this experiment inf iters too large is harmful\n",
    "        inf_lr = 0.01\n",
    "        learn_iters = 800\n",
    "        learn_lr = 0.01\n",
    "        latent_size = 8\n",
    "        input_size = num_cues\n",
    "        control_size = num_cues\n",
    "        sparse_penal = 0\n",
    "        n_cued = 1 # number of cued images\n",
    "        assert(n_cued < seq_len)\n",
    "  \n",
    "        model = MultilayertPC(latent_size, input_size, nonlin='tanh').to(device)\n",
    "        optimizer = torch.optim.Adam(model.parameters(), lr=learn_lr)\n",
    "\n",
    "        PC_losses1 = train_PC(model, optimizer, train_inputs.long(), 150, inf_iters, inf_lr, device)\n",
    "        \n",
    "        plt.figure()\n",
    "        plt.plot(PC_losses1)\n",
    "        plt.title(mouse_id + ' ' + str(rec_day))\n",
    "        \n",
    "        on_losses = []\n",
    "        off_losses = []\n",
    "        for ii in range(len(test_seq)):\n",
    "            test = test_seq[ii].long()\n",
    "\n",
    "            model.eval()\n",
    "            inf_iters = 200\n",
    "            query = 'online'\n",
    "            with torch.no_grad():\n",
    "                online_recall, online_loss = _recall(model, test, inf_iters, inf_lr, query, device)\n",
    "            query = 'offline'\n",
    "            with torch.no_grad():\n",
    "                offline_recall, offline_loss = _recall(model, test, inf_iters, inf_lr, query, device)\n",
    "\n",
    "            on_losses.append(online_loss)\n",
    "            off_losses.append(offline_loss)\n",
    "            \n",
    "            res['mouse']+= [mouse_id]*2\n",
    "            res['day']+= [rec_day]*2\n",
    "            res['type']+= ['online', 'offline']\n",
    "            res['loss']+= [on_losses, off_losses]\n",
    "\n",
    "\n",
    "losses = pd.DataFrame(res)"
   ]
  },
  {
   "cell_type": "code",
   "execution_count": null,
   "id": "a2f9e884",
   "metadata": {},
   "outputs": [],
   "source": []
  },
  {
   "cell_type": "code",
   "execution_count": null,
   "id": "783000b1",
   "metadata": {},
   "outputs": [],
   "source": []
  },
  {
   "cell_type": "code",
   "execution_count": null,
   "id": "034132d3",
   "metadata": {},
   "outputs": [],
   "source": []
  },
  {
   "cell_type": "code",
   "execution_count": null,
   "id": "51852c46",
   "metadata": {},
   "outputs": [],
   "source": []
  },
  {
   "cell_type": "code",
   "execution_count": null,
   "id": "99407ba9",
   "metadata": {},
   "outputs": [],
   "source": [
    "######## Classifier\n",
    "\n",
    "correct_choice = 'correct'\n",
    "res = {'mouse':[], 'day':[],'accs':[],'acc_type':[],'layer':[]}\n",
    "for rep in range(20):\n",
    "    print('############ rep', rep, '  ###############')\n",
    "    for mouse_id in mouse_ids:\n",
    "\n",
    "        for rr, rec_day in enumerate(rec_days[mouse_id]):\n",
    "\n",
    "            print(mouse_id , '  ', rec_day)\n",
    "            cue_pulse_names = ['ledsucrose','ledwater']\n",
    "            sess_type = 'rl'\n",
    "            cue_pops = get_layer_cuepop(mouse_id, rec_day, cue_pulse_names, sess_type, correct_trials= correct_choice)\n",
    "            \n",
    "            sess_type = 'tt'\n",
    "            cue_pulse_names = ['toneSucrose','toneWater']\n",
    "            cue_pop_tts = get_layer_cuepop(mouse_id, rec_day, cue_pulse_names, sess_type, correct_trials= correct_choice)\n",
    "            cue_pop_tt_shifts = get_layer_cuepop(mouse_id, rec_day, cue_pulse_names, sess_type, shift = True, correct_trials= correct_choice)\n",
    "\n",
    "            if cue_pops == None:\n",
    "                print('empty cue_pop')\n",
    "                continue\n",
    "\n",
    "            ## sample same number of cells from each layer\n",
    "            select_cells = np.min([np.sum(led_cells_inf['L23'][mouse_id][rec_day]) ,np.sum(led_cells_inf['L56'][mouse_id][rec_day])])\n",
    "            for layer, layer_name in enumerate(['L23', 'L56']):\n",
    "\n",
    "                cue_pop = cue_pops[layer]\n",
    "                cue_pop_tt = cue_pop_tts[layer]\n",
    "                cue_pop_tt_shift = cue_pop_tt_shifts[layer]\n",
    "                \n",
    "                \n",
    "                tcells = led_cells_inf[layer_name][mouse_id][rec_day].reshape(-1)\n",
    "                for cue in cue_pop:\n",
    "                    cue_pop[cue] = cue_pop[cue][:, tcells]\n",
    "                for cue in cue_pop_tt:\n",
    "                    cue_pop_tt[cue] = cue_pop_tt[cue][:, tcells]\n",
    "                    cue_pop_tt_shift[cue] = cue_pop_tt_shift[cue][:, tcells]\n",
    "                \n",
    "                if cue_pop['ledsucrose'].shape[1] != select_cells:\n",
    "\n",
    "                    select_idx = random.sample(range(cue_pop['ledsucrose'].shape[1]),select_cells)\n",
    "                    select_idx.sort()\n",
    "                    for cue in cue_pop:\n",
    "                        cue_pop[cue] = cue_pop[cue][:, select_idx]\n",
    "                    for cue in cue_pop_tt:\n",
    "                        cue_pop_tt[cue] = cue_pop_tt[cue][:, select_idx]\n",
    "                        cue_pop_tt_shift[cue] = cue_pop_tt_shift[cue][:, select_idx]\n",
    "                \n",
    "                print(layer, '  ', cue_pop['ledsucrose'].shape)\n",
    "\n",
    "                X, Y, Y_string = extract_XY(cue_pop)\n",
    "                X_t1, Y_t1, Y_string_t1 = extract_XY(cue_pop_tt)\n",
    "                X_t2, Y_t2, Y_string_t2 = extract_XY(cue_pop_tt_shift)\n",
    "\n",
    "                unique, counts = np.unique(Y, return_counts = True)\n",
    "                uniquet, countst = np.unique(Y_t1, return_counts = True)\n",
    "                if (len(unique)<2) or (min(counts)<2) or (X.shape[1] < 1) or (len(uniquet)<2) or (min(countst)<2):\n",
    "                    do_clf=0\n",
    "                    print('skipped : ', mouse_id, '  ', rec_day)\n",
    "                else:\n",
    "                    do_clf=1\n",
    "\n",
    "                if do_clf:\n",
    "\n",
    "                    cv = RepeatedStratifiedKFold(n_splits=np.min(counts),n_repeats=10)\n",
    "                \n",
    "                    # scale and transform\n",
    "                    scaling = StandardScaler()\n",
    "                    scaling.fit(X)\n",
    "\n",
    "                    # Transform training and test\n",
    "                    X_t1_scaled = scaling.transform(X_t1)\n",
    "                    X_t2_scaled = scaling.transform(X_t2)\n",
    "\n",
    "                    model =  LogisticRegression(penalty='l1',solver='liblinear',random_state=0).fit(X,Y)\n",
    "                    score1 = balanced_accuracy_score(Y_t1, model.predict(X_t1_scaled), adjusted=True)\n",
    "                    score2 = balanced_accuracy_score(Y_t2, model.predict(X_t2_scaled), adjusted=True)\n",
    "                    res['accs'] += [score1, score2]\n",
    "                    res['acc_type'] += ['t1', 't2']\n",
    "                    res['mouse']+= [mouse_id]*2\n",
    "                    res['day']+= [rr]*2\n",
    "                    res['layer']+= [layer_name]*2\n",
    "\n",
    "df_inf_tone = pd.DataFrame(res)\n",
    "inf_tone = df_inf_tone.groupby(['mouse', 'day', 'acc_type','layer']).agg({'accs':'mean'}).reset_index()"
   ]
  }
 ],
 "metadata": {
  "kernelspec": {
   "display_name": "seqmemenv",
   "language": "python",
   "name": "seqmemenv"
  },
  "language_info": {
   "codemirror_mode": {
    "name": "ipython",
    "version": 3
   },
   "file_extension": ".py",
   "mimetype": "text/x-python",
   "name": "python",
   "nbconvert_exporter": "python",
   "pygments_lexer": "ipython3",
   "version": "3.8.16"
  }
 },
 "nbformat": 4,
 "nbformat_minor": 5
}
